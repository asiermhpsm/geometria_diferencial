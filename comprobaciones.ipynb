{
 "cells": [
  {
   "cell_type": "markdown",
   "metadata": {},
   "source": [
    "# Comprobaciones de funcionamiento de metodos"
   ]
  },
  {
   "cell_type": "code",
   "execution_count": 1,
   "metadata": {},
   "outputs": [],
   "source": [
    "from metodos import *"
   ]
  },
  {
   "cell_type": "code",
   "execution_count": 2,
   "metadata": {},
   "outputs": [],
   "source": [
    "u, v = sp.symbols('u, v', real = True)"
   ]
  },
  {
   "cell_type": "markdown",
   "metadata": {},
   "source": [
    "## Prueba 1"
   ]
  },
  {
   "cell_type": "code",
   "execution_count": 3,
   "metadata": {},
   "outputs": [
    {
     "name": "stdout",
     "output_type": "stream",
     "text": [
      "Normal:  [-2*sqrt(5)*u*cos(v)/(5*Abs(u)), -2*sqrt(5)*u*sin(v)/(5*Abs(u)), sqrt(5)*u/(5*Abs(u))]\n",
      "1a forma fundamental:  (5, 0, u**2)\n",
      "2a forma fundamental:  (0, 0, 2*sqrt(5)*u**2/(5*Abs(u)))\n",
      "Curvaturas principales:  (2*sqrt(5)/(5*Abs(u)), 0)\n"
     ]
    }
   ],
   "source": [
    "ecuaciones1 = [u*sp.cos(v), u*sp.sin(v), 2*u]\n",
    "print('Normal: ', normal(ecuaciones1, u, v))\n",
    "print('1a forma fundamental: ', primeraFormaFundamental(ecuaciones1, u, v))\n",
    "print('2a forma fundamental: ', segundoFormaFundamental(ecuaciones1, u, v))\n",
    "print('Curvaturas principales: ', curvaturasPrincipales(ecuaciones1, u, v))"
   ]
  },
  {
   "cell_type": "markdown",
   "metadata": {},
   "source": [
    "## Prueba 2"
   ]
  },
  {
   "cell_type": "code",
   "execution_count": 4,
   "metadata": {},
   "outputs": [
    {
     "name": "stdout",
     "output_type": "stream",
     "text": [
      "Normal:  [(u + v)/sqrt((u - v)**2 + (u + v)**2 + 4), (-u + v)/sqrt((u - v)**2 + (u + v)**2 + 4), -2/sqrt((u - v)**2 + (u + v)**2 + 4)]\n",
      "1a forma fundamental:  (v**2 + 2, u*v, u**2 + 2)\n",
      "2a forma fundamental:  (0, -2/sqrt((u - v)**2 + (u + v)**2 + 4), 0)\n",
      "Curvaturas principales:  (sqrt(2)*(u*v*sqrt((u - v)**2 + (u + v)**2 + 4) + sqrt((u**2*v**2*(u**2*v**2 - (u**2 + 2)*(v**2 + 2))*((u - v)**2 + (u + v)**2 + 4) - 8*(u**2 + v**2 + 2)**3)/(u**2*v**2 - (u**2 + 2)*(v**2 + 2))))/(2*(u**2 + v**2 + 2)**(3/2)*sqrt((u - v)**2 + (u + v)**2 + 4)), sqrt(2)*(u*v*sqrt((u - v)**2 + (u + v)**2 + 4) - sqrt((u**2*v**2*(u**2*v**2 - (u**2 + 2)*(v**2 + 2))*((u - v)**2 + (u + v)**2 + 4) - 8*(u**2 + v**2 + 2)**3)/(u**2*v**2 - (u**2 + 2)*(v**2 + 2))))/(2*(u**2 + v**2 + 2)**(3/2)*sqrt((u - v)**2 + (u + v)**2 + 4)))\n"
     ]
    }
   ],
   "source": [
    "ecuaciones2 = [u+v, u-v, u*v]\n",
    "print('Normal: ', normal(ecuaciones2, u, v))\n",
    "print('1a forma fundamental: ', primeraFormaFundamental(ecuaciones2, u, v))\n",
    "print('2a forma fundamental: ', segundoFormaFundamental(ecuaciones2, u, v))\n",
    "print('Curvaturas principales: ', curvaturasPrincipales(ecuaciones2, u, v))"
   ]
  },
  {
   "cell_type": "markdown",
   "metadata": {},
   "source": [
    "## Prueba 3"
   ]
  },
  {
   "cell_type": "code",
   "execution_count": 5,
   "metadata": {},
   "outputs": [
    {
     "name": "stdout",
     "output_type": "stream",
     "text": [
      "Normal:  [-cos(v)*tanh(u)**2/Abs(tanh(u)), -sin(v)*tanh(u)**2/Abs(tanh(u)), -tanh(u)*sech(u)/Abs(tanh(u))]\n",
      "1a forma fundamental:  (tanh(u)**2, 0, sech(u)**2)\n",
      "2a forma fundamental:  (-tanh(u)**2*sech(u)/Abs(tanh(u)), 0, tanh(u)**2*sech(u)/Abs(tanh(u)))\n",
      "Curvaturas principales:  ((cosh(u)**2 - 1)/(cosh(u)*Abs(tanh(u))), -1/(cosh(u)*Abs(tanh(u))))\n",
      "Curvatura media:  (cosh(u) - 2/cosh(u))/(2*Abs(tanh(u)))\n",
      "Curvatura Gauss:  -1\n"
     ]
    }
   ],
   "source": [
    "ecuaciones3 = [sp.sech(u)*sp.cos(v), sp.sech(u)*sp.sin(v), u-sp.tanh(u)]\n",
    "print('Normal: ', normal(ecuaciones3, u, v))\n",
    "print('1a forma fundamental: ', primeraFormaFundamental(ecuaciones3, u, v))\n",
    "print('2a forma fundamental: ', segundoFormaFundamental(ecuaciones3, u, v))\n",
    "print('Curvaturas principales: ', curvaturasPrincipales(ecuaciones3, u, v))\n",
    "print('Curvatura media: ', curvaturaMedia(ecuaciones3, u, v))\n",
    "print('Curvatura Gauss: ', curvaturaGauss(ecuaciones3, u, v))"
   ]
  }
 ],
 "metadata": {
  "kernelspec": {
   "display_name": "Python 3",
   "language": "python",
   "name": "python3"
  },
  "language_info": {
   "codemirror_mode": {
    "name": "ipython",
    "version": 3
   },
   "file_extension": ".py",
   "mimetype": "text/x-python",
   "name": "python",
   "nbconvert_exporter": "python",
   "pygments_lexer": "ipython3",
   "version": "3.11.0"
  }
 },
 "nbformat": 4,
 "nbformat_minor": 2
}
