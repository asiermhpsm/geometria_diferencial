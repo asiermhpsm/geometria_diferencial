{
 "cells": [
  {
   "cell_type": "markdown",
   "metadata": {},
   "source": [
    "# Comprobaciones de los metodos relacionados con la Geometría diferencial"
   ]
  },
  {
   "cell_type": "code",
   "execution_count": 1,
   "metadata": {},
   "outputs": [],
   "source": [
    "from IPython.display import display\n",
    "from formFund import *\n",
    "from curv import *\n",
    "from caract import *\n"
   ]
  },
  {
   "cell_type": "code",
   "execution_count": 2,
   "metadata": {},
   "outputs": [],
   "source": [
    "u, v = sp.symbols('u, v', real = True)          #Variables para parametrizacion\n",
    "s, t = sp.symbols('s, t', real = True)          #Variables para parametrizacion\n",
    "x, y, z = sp.symbols('x, y z', real = True)     #Variables para eje x, y, z\n",
    "a, b = sp.symbols('a, b', real = True)          #Parametro numerico\n"
   ]
  },
  {
   "cell_type": "markdown",
   "metadata": {},
   "source": [
    "## Pruebas"
   ]
  },
  {
   "cell_type": "code",
   "execution_count": 3,
   "metadata": {},
   "outputs": [
    {
     "data": {
      "text/latex": [
       "$\\displaystyle \\left[\\begin{matrix}u & v & u^{2} + v^{2}\\end{matrix}\\right]$"
      ],
      "text/plain": [
       "Matrix([[u, v, u**2 + v**2]])"
      ]
     },
     "metadata": {},
     "output_type": "display_data"
    },
    {
     "data": {
      "text/latex": [
       "$\\displaystyle - 2.0 x - 2.0 y + 1.0 z + 2.0$"
      ],
      "text/plain": [
       "-2.0*x - 2.0*y + 1.0*z + 2.0"
      ]
     },
     "execution_count": 3,
     "metadata": {},
     "output_type": "execute_result"
    }
   ],
   "source": [
    "phi = sp.Matrix([u, v, u**2 + v**2]).T\n",
    "display(phi)\n",
    "planoTangente_pt_xyz(phi, u, v, 1, 1,2)"
   ]
  },
  {
   "cell_type": "code",
   "execution_count": 4,
   "metadata": {},
   "outputs": [
    {
     "data": {
      "text/latex": [
       "$\\displaystyle \\left[\\begin{matrix}1 & 0 & 1\\end{matrix}\\right]$"
      ],
      "text/plain": [
       "Matrix([[1, 0, 1]])"
      ]
     },
     "execution_count": 4,
     "metadata": {},
     "output_type": "execute_result"
    }
   ],
   "source": [
    "phi = (u, v, 0)\n",
    "primeraFormaFundamental(phi, u, v)"
   ]
  },
  {
   "cell_type": "code",
   "execution_count": 5,
   "metadata": {},
   "outputs": [
    {
     "data": {
      "text/latex": [
       "$\\displaystyle \\left[\\begin{matrix}1 & 0 & 1\\end{matrix}\\right]$"
      ],
      "text/plain": [
       "Matrix([[1, 0, 1]])"
      ]
     },
     "execution_count": 5,
     "metadata": {},
     "output_type": "execute_result"
    }
   ],
   "source": [
    "phi = (sp.cos(u), sp.sin(u), v)\n",
    "primeraFormaFundamental(phi, u, v)"
   ]
  },
  {
   "cell_type": "code",
   "execution_count": 6,
   "metadata": {},
   "outputs": [
    {
     "data": {
      "text/latex": [
       "$\\displaystyle \\left[\\begin{matrix}1 & 0 & u^{2}\\end{matrix}\\right]$"
      ],
      "text/plain": [
       "Matrix([[1, 0, u**2]])"
      ]
     },
     "execution_count": 6,
     "metadata": {},
     "output_type": "execute_result"
    }
   ],
   "source": [
    "phi = (u*sp.cos(v), u*sp.sin(v), 0)\n",
    "primeraFormaFundamental(phi, u, v)"
   ]
  },
  {
   "cell_type": "code",
   "execution_count": 7,
   "metadata": {},
   "outputs": [
    {
     "data": {
      "text/latex": [
       "$\\displaystyle \\left[\\begin{matrix}v^{2} + 2 & u v & u^{2} + 2\\end{matrix}\\right]$"
      ],
      "text/plain": [
       "Matrix([[v**2 + 2, u*v, u**2 + 2]])"
      ]
     },
     "execution_count": 7,
     "metadata": {},
     "output_type": "execute_result"
    }
   ],
   "source": [
    "phi = (u+v, u*v, u-v)\n",
    "primeraFormaFundamental(phi, u, v)"
   ]
  },
  {
   "cell_type": "code",
   "execution_count": 8,
   "metadata": {},
   "outputs": [
    {
     "data": {
      "text/latex": [
       "$\\displaystyle \\left[\\begin{matrix}4 u^{2} + 2 & 2 u - 2 v & 4 v^{2} + 1\\end{matrix}\\right]$"
      ],
      "text/plain": [
       "Matrix([[4*u**2 + 2, 2*u - 2*v, 4*v**2 + 1]])"
      ]
     },
     "execution_count": 8,
     "metadata": {},
     "output_type": "execute_result"
    }
   ],
   "source": [
    "phi = (u**2+v, u-v**2, u)\n",
    "primeraFormaFundamental(phi, u, v)"
   ]
  },
  {
   "cell_type": "code",
   "execution_count": 9,
   "metadata": {},
   "outputs": [
    {
     "data": {
      "text/latex": [
       "$\\displaystyle \\left[\\begin{matrix}2 & 0 & u^{2}\\end{matrix}\\right]$"
      ],
      "text/plain": [
       "Matrix([[2, 0, u**2]])"
      ]
     },
     "execution_count": 9,
     "metadata": {},
     "output_type": "execute_result"
    }
   ],
   "source": [
    "phi = (u*sp.cos(v), u*sp.sin(v), u)\n",
    "primeraFormaFundamental(phi, u, v)"
   ]
  },
  {
   "cell_type": "code",
   "execution_count": 10,
   "metadata": {},
   "outputs": [
    {
     "data": {
      "text/latex": [
       "$\\displaystyle \\left[\\begin{matrix}1 & 0 & a^{2} + u^{2}\\end{matrix}\\right]$"
      ],
      "text/plain": [
       "Matrix([[1, 0, a**2 + u**2]])"
      ]
     },
     "metadata": {},
     "output_type": "display_data"
    },
    {
     "data": {
      "text/latex": [
       "$\\displaystyle \\left[\\begin{matrix}1.0 & 0 & a^{2}\\end{matrix}\\right]$"
      ],
      "text/plain": [
       "Matrix([[1.0, 0, a**2]])"
      ]
     },
     "execution_count": 10,
     "metadata": {},
     "output_type": "execute_result"
    }
   ],
   "source": [
    "phi = (u*sp.cos(v), u*sp.sin(v), v*a)\n",
    "EFG = primeraFormaFundamental(phi, u, v)\n",
    "display(EFG)\n",
    "primeraFormaFundamental_pt_uv(phi, u, v, 0, 0, EFG=EFG)"
   ]
  },
  {
   "cell_type": "code",
   "execution_count": 11,
   "metadata": {},
   "outputs": [
    {
     "data": {
      "text/latex": [
       "$\\displaystyle \\left[\\begin{matrix}1 & 0 & 1\\end{matrix}\\right]$"
      ],
      "text/plain": [
       "Matrix([[1, 0, 1]])"
      ]
     },
     "metadata": {},
     "output_type": "display_data"
    },
    {
     "data": {
      "text/latex": [
       "$\\displaystyle \\left[\\begin{matrix}4 s^{2} + 1 & 0 & 1\\end{matrix}\\right]$"
      ],
      "text/plain": [
       "Matrix([[4*s**2 + 1, 0, 1]])"
      ]
     },
     "metadata": {},
     "output_type": "display_data"
    }
   ],
   "source": [
    "phi = (u, 0, v)\n",
    "sigma = (s, s**2, t)\n",
    "display(primeraFormaFundamental(phi, u, v))\n",
    "display(primeraFormaFundamental(sigma, s, t))"
   ]
  },
  {
   "cell_type": "code",
   "execution_count": 12,
   "metadata": {},
   "outputs": [
    {
     "data": {
      "text/latex": [
       "$\\displaystyle \\left[\\begin{matrix}1 & 0 & 1\\end{matrix}\\right]$"
      ],
      "text/plain": [
       "Matrix([[1, 0, 1]])"
      ]
     },
     "metadata": {},
     "output_type": "display_data"
    },
    {
     "data": {
      "text/latex": [
       "$\\displaystyle \\left[\\begin{matrix}0 & 0 & 0\\end{matrix}\\right]$"
      ],
      "text/plain": [
       "Matrix([[0, 0, 0]])"
      ]
     },
     "metadata": {},
     "output_type": "display_data"
    },
    {
     "data": {
      "text/latex": [
       "$\\displaystyle \\left[\\begin{matrix}1 & 0 & 1\\end{matrix}\\right]$"
      ],
      "text/plain": [
       "Matrix([[1, 0, 1]])"
      ]
     },
     "metadata": {},
     "output_type": "display_data"
    },
    {
     "data": {
      "text/latex": [
       "$\\displaystyle \\left[\\begin{matrix}-1 & 0 & 0\\end{matrix}\\right]$"
      ],
      "text/plain": [
       "Matrix([[-1, 0, 0]])"
      ]
     },
     "metadata": {},
     "output_type": "display_data"
    }
   ],
   "source": [
    "phi = (u, v, 0)\n",
    "sigma = (sp.cos(s), sp.sin(s), t)\n",
    "display(primeraFormaFundamental(phi, u, v))\n",
    "display(segundaFormaFundamental(phi, u, v))\n",
    "display(primeraFormaFundamental(sigma, s, t))\n",
    "display(segundaFormaFundamental(sigma, s, t))"
   ]
  },
  {
   "cell_type": "code",
   "execution_count": 13,
   "metadata": {},
   "outputs": [
    {
     "data": {
      "text/latex": [
       "$\\displaystyle \\left[\\begin{matrix}a^{2} & 0 & a^{2} \\cos^{2}{\\left(u \\right)}\\end{matrix}\\right]$"
      ],
      "text/plain": [
       "Matrix([[a**2, 0, a**2*cos(u)**2]])"
      ]
     },
     "metadata": {},
     "output_type": "display_data"
    },
    {
     "data": {
      "text/latex": [
       "$\\displaystyle \\left[\\begin{matrix}\\frac{a \\cos{\\left(u \\right)}}{\\left|{\\cos{\\left(u \\right)}}\\right|} & 0 & \\frac{a \\cos^{3}{\\left(u \\right)}}{\\left|{\\cos{\\left(u \\right)}}\\right|}\\end{matrix}\\right]$"
      ],
      "text/plain": [
       "Matrix([[a*cos(u)/Abs(cos(u)), 0, a*cos(u)**3/Abs(cos(u))]])"
      ]
     },
     "metadata": {},
     "output_type": "display_data"
    }
   ],
   "source": [
    "phi = (a*sp.cos(u)*sp.cos(v), a*sp.cos(u)*sp.sin(v), a*sp.sin(u))\n",
    "display(primeraFormaFundamental(phi, u, v))\n",
    "display(segundaFormaFundamental(phi, u, v))"
   ]
  },
  {
   "cell_type": "code",
   "execution_count": 14,
   "metadata": {},
   "outputs": [
    {
     "data": {
      "text/latex": [
       "$\\displaystyle \\left[\\begin{matrix}1.0 & 0 & 1.0\\end{matrix}\\right]$"
      ],
      "text/plain": [
       "Matrix([[1.0, 0, 1.0]])"
      ]
     },
     "metadata": {},
     "output_type": "display_data"
    },
    {
     "data": {
      "text/latex": [
       "$\\displaystyle \\left[\\begin{matrix}1.0 & 0 & 1.0\\end{matrix}\\right]$"
      ],
      "text/plain": [
       "Matrix([[1.0, 0, 1.0]])"
      ]
     },
     "metadata": {},
     "output_type": "display_data"
    }
   ],
   "source": [
    "phi = (sp.cos(u)*sp.cos(v), sp.cos(u)*sp.sin(v), sp.sin(u))\n",
    "display(primeraFormaFundamental_pt_uv(phi, u, v, 0, 0))\n",
    "display(segundaFormaFundamental_pt_uv(phi, u, v, 0, 0))"
   ]
  },
  {
   "cell_type": "code",
   "execution_count": 15,
   "metadata": {},
   "outputs": [
    {
     "data": {
      "text/latex": [
       "$\\displaystyle \\left[\\begin{matrix}b^{2} & 0 & \\left(a + b \\cos{\\left(u \\right)}\\right)^{2}\\end{matrix}\\right]$"
      ],
      "text/plain": [
       "Matrix([[b**2, 0, (a + b*cos(u))**2]])"
      ]
     },
     "metadata": {},
     "output_type": "display_data"
    },
    {
     "data": {
      "text/latex": [
       "$\\displaystyle \\left[\\begin{matrix}\\frac{b^{2} \\left(a + b \\cos{\\left(u \\right)}\\right)}{\\left|{b}\\right| \\left|{a + b \\cos{\\left(u \\right)}}\\right|} & 0 & \\frac{b \\left(a + b \\cos{\\left(u \\right)}\\right)^{2} \\cos{\\left(u \\right)}}{\\left|{b}\\right| \\left|{a + b \\cos{\\left(u \\right)}}\\right|}\\end{matrix}\\right]$"
      ],
      "text/plain": [
       "Matrix([[b**2*(a + b*cos(u))/(Abs(b)*Abs(a + b*cos(u))), 0, b*(a + b*cos(u))**2*cos(u)/(Abs(b)*Abs(a + b*cos(u)))]])"
      ]
     },
     "metadata": {},
     "output_type": "display_data"
    }
   ],
   "source": [
    "phi = ( (a+b*sp.cos(u))*sp.cos(v), (a+b*sp.cos(u))*sp.sin(v), b*sp.sin(u))\n",
    "display(primeraFormaFundamental(phi, u, v))\n",
    "display(segundaFormaFundamental(phi, u, v))"
   ]
  },
  {
   "cell_type": "code",
   "execution_count": 16,
   "metadata": {},
   "outputs": [
    {
     "data": {
      "text/latex": [
       "$\\displaystyle \\left[\\begin{matrix}5.0 & 2.0 & 2.0\\end{matrix}\\right]$"
      ],
      "text/plain": [
       "Matrix([[5.0, 2.0, 2.0]])"
      ]
     },
     "metadata": {},
     "output_type": "display_data"
    },
    {
     "data": {
      "text/latex": [
       "$\\displaystyle \\left[\\begin{matrix}-0.816496580927726 & 0 & 0\\end{matrix}\\right]$"
      ],
      "text/plain": [
       "Matrix([[-0.816496580927726, 0, 0]])"
      ]
     },
     "metadata": {},
     "output_type": "display_data"
    }
   ],
   "source": [
    "phi = ( u, u**2+v, v)\n",
    "display(primeraFormaFundamental_pt_uv(phi, u, v, 1, 1))\n",
    "display(segundaFormaFundamental_pt_uv(phi, u, v, 1, 1))       #REVISAR"
   ]
  },
  {
   "cell_type": "code",
   "execution_count": 17,
   "metadata": {},
   "outputs": [
    {
     "data": {
      "text/latex": [
       "$\\displaystyle \\left[\\begin{matrix}1 & 0 & 1\\end{matrix}\\right]$"
      ],
      "text/plain": [
       "Matrix([[1, 0, 1]])"
      ]
     },
     "metadata": {},
     "output_type": "display_data"
    },
    {
     "data": {
      "text/latex": [
       "$\\displaystyle \\left[\\begin{matrix}0 & 0 & 0\\end{matrix}\\right]$"
      ],
      "text/plain": [
       "Matrix([[0, 0, 0]])"
      ]
     },
     "metadata": {},
     "output_type": "display_data"
    }
   ],
   "source": [
    "phi = ( u, v, 0)\n",
    "display(primeraFormaFundamental(phi, u, v))\n",
    "display(segundaFormaFundamental(phi, u, v)) "
   ]
  },
  {
   "cell_type": "code",
   "execution_count": 18,
   "metadata": {},
   "outputs": [
    {
     "data": {
      "text/latex": [
       "$\\displaystyle \\left[\\begin{matrix}1 & 0 & \\cos^{2}{\\left(u \\right)}\\end{matrix}\\right]$"
      ],
      "text/plain": [
       "Matrix([[1, 0, cos(u)**2]])"
      ]
     },
     "metadata": {},
     "output_type": "display_data"
    },
    {
     "data": {
      "text/latex": [
       "$\\displaystyle \\left[\\begin{matrix}\\frac{\\cos{\\left(u \\right)}}{\\left|{\\cos{\\left(u \\right)}}\\right|} & 0 & \\frac{\\cos^{3}{\\left(u \\right)}}{\\left|{\\cos{\\left(u \\right)}}\\right|}\\end{matrix}\\right]$"
      ],
      "text/plain": [
       "Matrix([[cos(u)/Abs(cos(u)), 0, cos(u)**3/Abs(cos(u))]])"
      ]
     },
     "metadata": {},
     "output_type": "display_data"
    }
   ],
   "source": [
    "phi = ( sp.cos(u)*sp.cos(v), sp.cos(u)*sp.sin(v), sp.sin(u))\n",
    "display(primeraFormaFundamental(phi, u, v))\n",
    "display(segundaFormaFundamental(phi, u, v))           #Revisar"
   ]
  },
  {
   "cell_type": "code",
   "execution_count": 19,
   "metadata": {},
   "outputs": [
    {
     "data": {
      "text/latex": [
       "$\\displaystyle \\left[\\begin{matrix}- \\cos{\\left(v \\right)} & - \\sin{\\left(v \\right)} & 0\\end{matrix}\\right]$"
      ],
      "text/plain": [
       "Matrix([[-cos(v), -sin(v), 0]])"
      ]
     },
     "metadata": {},
     "output_type": "display_data"
    },
    {
     "data": {
      "text/latex": [
       "$\\displaystyle \\left[\\begin{matrix}1 & 0 & 1\\end{matrix}\\right]$"
      ],
      "text/plain": [
       "Matrix([[1, 0, 1]])"
      ]
     },
     "metadata": {},
     "output_type": "display_data"
    },
    {
     "data": {
      "text/latex": [
       "$\\displaystyle \\left[\\begin{matrix}0 & 0 & 1\\end{matrix}\\right]$"
      ],
      "text/plain": [
       "Matrix([[0, 0, 1]])"
      ]
     },
     "metadata": {},
     "output_type": "display_data"
    }
   ],
   "source": [
    "phi = ( sp.cos(v), sp.sin(v), u)\n",
    "display(normal(phi, u, v))\n",
    "display(primeraFormaFundamental(phi, u, v))\n",
    "display(segundaFormaFundamental(phi, u, v)) "
   ]
  },
  {
   "cell_type": "code",
   "execution_count": 20,
   "metadata": {},
   "outputs": [
    {
     "data": {
      "text/latex": [
       "$\\displaystyle \\left[\\begin{matrix}\\cosh{\\left(2 u \\right)} & 0 & \\cosh^{2}{\\left(u \\right)}\\end{matrix}\\right]$"
      ],
      "text/plain": [
       "Matrix([[cosh(2*u), 0, cosh(u)**2]])"
      ]
     },
     "metadata": {},
     "output_type": "display_data"
    },
    {
     "data": {
      "text/latex": [
       "$\\displaystyle \\left[\\begin{matrix}- \\frac{1}{\\sqrt{\\cosh{\\left(2 u \\right)}}} & 0 & \\frac{\\cosh^{2}{\\left(u \\right)}}{\\sqrt{\\cosh{\\left(2 u \\right)}}}\\end{matrix}\\right]$"
      ],
      "text/plain": [
       "Matrix([[-1/sqrt(cosh(2*u)), 0, cosh(u)**2/sqrt(cosh(2*u))]])"
      ]
     },
     "metadata": {},
     "output_type": "display_data"
    }
   ],
   "source": [
    "phi = ( sp.cosh(u)*sp.cos(v), sp.cosh(u)*sp.sin(v), sp.sinh(u))\n",
    "display(primeraFormaFundamental(phi, u, v))\n",
    "display(segundaFormaFundamental(phi, u, v)) "
   ]
  },
  {
   "cell_type": "code",
   "execution_count": 21,
   "metadata": {},
   "outputs": [
    {
     "data": {
      "text/latex": [
       "$\\displaystyle \\left[\\begin{matrix}- \\frac{2 u}{\\sqrt{4 u^{2} + 4 v^{2} + 1}} & - \\frac{2 v}{\\sqrt{4 u^{2} + 4 v^{2} + 1}} & \\frac{1}{\\sqrt{4 u^{2} + 4 v^{2} + 1}}\\end{matrix}\\right]$"
      ],
      "text/plain": [
       "Matrix([[-2*u/sqrt(4*u**2 + 4*v**2 + 1), -2*v/sqrt(4*u**2 + 4*v**2 + 1), 1/sqrt(4*u**2 + 4*v**2 + 1)]])"
      ]
     },
     "metadata": {},
     "output_type": "display_data"
    },
    {
     "data": {
      "text/latex": [
       "$\\displaystyle \\left[\\begin{matrix}4 u^{2} + 1 & 4 u v & 4 v^{2} + 1\\end{matrix}\\right]$"
      ],
      "text/plain": [
       "Matrix([[4*u**2 + 1, 4*u*v, 4*v**2 + 1]])"
      ]
     },
     "metadata": {},
     "output_type": "display_data"
    },
    {
     "data": {
      "text/latex": [
       "$\\displaystyle \\left[\\begin{matrix}\\frac{2}{\\sqrt{4 u^{2} + 4 v^{2} + 1}} & 0 & \\frac{2}{\\sqrt{4 u^{2} + 4 v^{2} + 1}}\\end{matrix}\\right]$"
      ],
      "text/plain": [
       "Matrix([[2/sqrt(4*u**2 + 4*v**2 + 1), 0, 2/sqrt(4*u**2 + 4*v**2 + 1)]])"
      ]
     },
     "metadata": {},
     "output_type": "display_data"
    }
   ],
   "source": [
    "phi = ( u, v, u**2+v**2)\n",
    "display(normal(phi, u, v))\n",
    "display(primeraFormaFundamental(phi, u, v))\n",
    "display(segundaFormaFundamental(phi, u, v))       #Revisar"
   ]
  },
  {
   "cell_type": "code",
   "execution_count": 22,
   "metadata": {},
   "outputs": [
    {
     "data": {
      "text/latex": [
       "$\\displaystyle \\left[\\begin{matrix}- \\frac{2 s^{2} \\cos{\\left(t \\right)}}{\\sqrt{4 s^{2} + 1} \\left|{s}\\right|} & - \\frac{2 s^{2} \\sin{\\left(t \\right)}}{\\sqrt{4 s^{2} + 1} \\left|{s}\\right|} & \\frac{s}{\\sqrt{4 s^{2} + 1} \\left|{s}\\right|}\\end{matrix}\\right]$"
      ],
      "text/plain": [
       "Matrix([[-2*s**2*cos(t)/(sqrt(4*s**2 + 1)*Abs(s)), -2*s**2*sin(t)/(sqrt(4*s**2 + 1)*Abs(s)), s/(sqrt(4*s**2 + 1)*Abs(s))]])"
      ]
     },
     "metadata": {},
     "output_type": "display_data"
    },
    {
     "data": {
      "text/latex": [
       "$\\displaystyle \\left[\\begin{matrix}4 s^{2} + 1 & 0 & s^{2}\\end{matrix}\\right]$"
      ],
      "text/plain": [
       "Matrix([[4*s**2 + 1, 0, s**2]])"
      ]
     },
     "metadata": {},
     "output_type": "display_data"
    },
    {
     "data": {
      "text/latex": [
       "$\\displaystyle \\left[\\begin{matrix}\\frac{2 s}{\\sqrt{4 s^{2} + 1} \\left|{s}\\right|} & 0 & \\frac{2 s^{3}}{\\sqrt{4 s^{2} + 1} \\left|{s}\\right|}\\end{matrix}\\right]$"
      ],
      "text/plain": [
       "Matrix([[2*s/(sqrt(4*s**2 + 1)*Abs(s)), 0, 2*s**3/(sqrt(4*s**2 + 1)*Abs(s))]])"
      ]
     },
     "metadata": {},
     "output_type": "display_data"
    }
   ],
   "source": [
    "omega = (s*sp.cos(t), s*sp.sin(t), s**2)\n",
    "display(normal(omega, s, t))\n",
    "display(primeraFormaFundamental(omega, s, t))\n",
    "display(segundaFormaFundamental(omega, s, t))     #Revisar"
   ]
  },
  {
   "cell_type": "code",
   "execution_count": 23,
   "metadata": {},
   "outputs": [
    {
     "data": {
      "text/latex": [
       "$\\displaystyle \\left[\\begin{matrix}\\frac{2 \\cos^{2}{\\left(u \\right)} \\cos{\\left(v \\right)}}{\\sqrt{4 - 3 \\sin^{2}{\\left(u \\right)}} \\left|{\\cos{\\left(u \\right)}}\\right|} & - \\frac{2 \\sin{\\left(v \\right)} \\cos^{2}{\\left(u \\right)}}{\\sqrt{4 - 3 \\sin^{2}{\\left(u \\right)}} \\left|{\\cos{\\left(u \\right)}}\\right|} & \\frac{\\sqrt{2} \\sin{\\left(2 u \\right)}}{2 \\sqrt{3 \\cos{\\left(2 u \\right)} + 5} \\left|{\\cos{\\left(u \\right)}}\\right|}\\end{matrix}\\right]$"
      ],
      "text/plain": [
       "Matrix([[2*cos(u)**2*cos(v)/(sqrt(4 - 3*sin(u)**2)*Abs(cos(u))), -2*sin(v)*cos(u)**2/(sqrt(4 - 3*sin(u)**2)*Abs(cos(u))), sqrt(2)*sin(2*u)/(2*sqrt(3*cos(2*u) + 5)*Abs(cos(u)))]])"
      ]
     },
     "metadata": {},
     "output_type": "display_data"
    },
    {
     "data": {
      "text/latex": [
       "$\\displaystyle \\left[\\begin{matrix}4 - 3 \\sin^{2}{\\left(u \\right)} & 0 & \\cos^{2}{\\left(u \\right)}\\end{matrix}\\right]$"
      ],
      "text/plain": [
       "Matrix([[4 - 3*sin(u)**2, 0, cos(u)**2]])"
      ]
     },
     "metadata": {},
     "output_type": "display_data"
    },
    {
     "data": {
      "text/latex": [
       "$\\displaystyle \\left[\\begin{matrix}- \\frac{2 \\cos{\\left(u \\right)}}{\\sqrt{4 - 3 \\sin^{2}{\\left(u \\right)}} \\left|{\\cos{\\left(u \\right)}}\\right|} & 0 & - \\frac{2 \\cos^{3}{\\left(u \\right)}}{\\sqrt{4 - 3 \\sin^{2}{\\left(u \\right)}} \\left|{\\cos{\\left(u \\right)}}\\right|}\\end{matrix}\\right]$"
      ],
      "text/plain": [
       "Matrix([[-2*cos(u)/(sqrt(4 - 3*sin(u)**2)*Abs(cos(u))), 0, -2*cos(u)**3/(sqrt(4 - 3*sin(u)**2)*Abs(cos(u)))]])"
      ]
     },
     "metadata": {},
     "output_type": "display_data"
    },
    {
     "data": {
      "text/latex": [
       "$\\displaystyle \\left[\\begin{matrix}\\frac{3 \\left(4 - 3 \\sin^{2}{\\left(u \\right)}\\right)^{\\frac{3}{2}} \\sqrt{\\frac{1}{\\left(4 - 3 \\sin^{2}{\\left(u \\right)}\\right)^{3}}} \\cos^{3}{\\left(u \\right)} + \\left(3 \\sin^{2}{\\left(u \\right)} - 5\\right) \\left|{\\cos{\\left(u \\right)}}\\right|}{\\left(4 - 3 \\sin^{2}{\\left(u \\right)}\\right)^{\\frac{3}{2}} \\cos{\\left(u \\right)}} & \\frac{- 3 \\left(4 - 3 \\sin^{2}{\\left(u \\right)}\\right)^{\\frac{3}{2}} \\sqrt{\\frac{1}{\\left(4 - 3 \\sin^{2}{\\left(u \\right)}\\right)^{3}}} \\cos^{3}{\\left(u \\right)} + \\left(3 \\sin^{2}{\\left(u \\right)} - 5\\right) \\left|{\\cos{\\left(u \\right)}}\\right|}{\\left(4 - 3 \\sin^{2}{\\left(u \\right)}\\right)^{\\frac{3}{2}} \\cos{\\left(u \\right)}}\\end{matrix}\\right]$"
      ],
      "text/plain": [
       "Matrix([[(3*(4 - 3*sin(u)**2)**(3/2)*sqrt((4 - 3*sin(u)**2)**(-3))*cos(u)**3 + (3*sin(u)**2 - 5)*Abs(cos(u)))/((4 - 3*sin(u)**2)**(3/2)*cos(u)), (-3*(4 - 3*sin(u)**2)**(3/2)*sqrt((4 - 3*sin(u)**2)**(-3))*cos(u)**3 + (3*sin(u)**2 - 5)*Abs(cos(u)))/((4 - 3*sin(u)**2)**(3/2)*cos(u))]])"
      ]
     },
     "metadata": {},
     "output_type": "display_data"
    }
   ],
   "source": [
    "phi = ( sp.cos(u)*sp.cos(v), -sp.cos(u)*sp.sin(v), 2*sp.sin(u))\n",
    "display(normal(phi, u, v))\n",
    "display(primeraFormaFundamental(phi, u, v))\n",
    "display(segundaFormaFundamental(phi, u, v))\n",
    "display(curvaturasPrincipales(phi, u, v))"
   ]
  },
  {
   "cell_type": "code",
   "execution_count": 24,
   "metadata": {},
   "outputs": [
    {
     "data": {
      "text/latex": [
       "$\\displaystyle \\left[\\begin{matrix}u^{2} + 1 & 0 & u^{2}\\end{matrix}\\right]$"
      ],
      "text/plain": [
       "Matrix([[u**2 + 1, 0, u**2]])"
      ]
     },
     "metadata": {},
     "output_type": "display_data"
    },
    {
     "data": {
      "text/latex": [
       "$\\displaystyle \\left[\\begin{matrix}\\frac{u}{\\sqrt{u^{2} + 1} \\left|{u}\\right|} & 0 & \\frac{u^{3}}{\\sqrt{u^{2} + 1} \\left|{u}\\right|}\\end{matrix}\\right]$"
      ],
      "text/plain": [
       "Matrix([[u/(sqrt(u**2 + 1)*Abs(u)), 0, u**3/(sqrt(u**2 + 1)*Abs(u))]])"
      ]
     },
     "metadata": {},
     "output_type": "display_data"
    },
    {
     "data": {
      "text/latex": [
       "$\\displaystyle \\frac{\\left(u^{2} + 2\\right) \\left|{u}\\right|}{2 u \\left(u^{2} + 1\\right)^{\\frac{3}{2}}}$"
      ],
      "text/plain": [
       "(u**2 + 2)*Abs(u)/(2*u*(u**2 + 1)**(3/2))"
      ]
     },
     "metadata": {},
     "output_type": "display_data"
    },
    {
     "data": {
      "text/latex": [
       "$\\displaystyle \\frac{1}{\\left(u^{2} + 1\\right)^{2}}$"
      ],
      "text/plain": [
       "(u**2 + 1)**(-2)"
      ]
     },
     "metadata": {},
     "output_type": "display_data"
    },
    {
     "data": {
      "text/latex": [
       "$\\displaystyle \\left[\\begin{matrix}\\frac{u^{3} + u^{2} \\left|{u}\\right| + 2 \\left|{u}\\right|}{2 u \\left(u^{2} + 1\\right)^{\\frac{3}{2}}} & \\frac{- u^{3} + u^{2} \\left|{u}\\right| + 2 \\left|{u}\\right|}{2 u \\left(u^{2} + 1\\right)^{\\frac{3}{2}}}\\end{matrix}\\right]$"
      ],
      "text/plain": [
       "Matrix([[(u**3 + u**2*Abs(u) + 2*Abs(u))/(2*u*(u**2 + 1)**(3/2)), (-u**3 + u**2*Abs(u) + 2*Abs(u))/(2*u*(u**2 + 1)**(3/2))]])"
      ]
     },
     "metadata": {},
     "output_type": "display_data"
    }
   ],
   "source": [
    "phi = ( u*sp.cos(v), u*sp.sin(v), (u**2)/2)\n",
    "E, F, G = primeraFormaFundamental(phi, u, v)\n",
    "e, f, g = segundaFormaFundamental(phi, u, v)\n",
    "H = curvaturaMedia(phi, u, v, EFG=(E, F, G), efg=(e, f, g))\n",
    "K = curvaturaGauss(phi, u, v, EFG=(E, F, G), efg=(e, f, g))\n",
    "\n",
    "display(primeraFormaFundamental(phi, u, v))\n",
    "display(segundaFormaFundamental(phi, u, v))\n",
    "display(curvaturaMedia(phi, u, v))\n",
    "display(curvaturaGauss(phi, u, v))\n",
    "display(curvaturasPrincipales(phi, u, v))"
   ]
  }
 ],
 "metadata": {
  "kernelspec": {
   "display_name": "Python 3",
   "language": "python",
   "name": "python3"
  },
  "language_info": {
   "codemirror_mode": {
    "name": "ipython",
    "version": 3
   },
   "file_extension": ".py",
   "mimetype": "text/x-python",
   "name": "python",
   "nbconvert_exporter": "python",
   "pygments_lexer": "ipython3",
   "version": "3.11.0"
  }
 },
 "nbformat": 4,
 "nbformat_minor": 2
}
