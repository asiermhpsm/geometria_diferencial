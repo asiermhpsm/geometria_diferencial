{
 "cells": [
  {
   "cell_type": "markdown",
   "metadata": {},
   "source": [
    "# Comprobaciones de los metodos relacionados con la Geometría diferencial"
   ]
  },
  {
   "cell_type": "code",
   "execution_count": 1,
   "metadata": {},
   "outputs": [],
   "source": [
    "from IPython.display import display\n",
    "from formFund import *\n",
    "from curv import *\n",
    "from caract import *\n"
   ]
  },
  {
   "cell_type": "code",
   "execution_count": 2,
   "metadata": {},
   "outputs": [],
   "source": [
    "u, v = sp.symbols('u, v', real = True)          #Variables para parametrizacion\n",
    "s, t = sp.symbols('s, t', real = True)          #Variables para parametrizacion\n",
    "x, y, z = sp.symbols('x, y z', real = True)     #Variables para eje x, y, z\n",
    "a, b = sp.symbols('a, b', real = True)          #Parametro numerico\n"
   ]
  },
  {
   "cell_type": "markdown",
   "metadata": {},
   "source": [
    "## Pruebas"
   ]
  },
  {
   "cell_type": "code",
   "execution_count": 3,
   "metadata": {},
   "outputs": [
    {
     "data": {
      "text/latex": [
       "$\\displaystyle \\left[\\begin{matrix}u & v & u^{2} + v^{2}\\end{matrix}\\right]$"
      ],
      "text/plain": [
       "Matrix([[u, v, u**2 + v**2]])"
      ]
     },
     "metadata": {},
     "output_type": "display_data"
    },
    {
     "data": {
      "text/latex": [
       "$\\displaystyle - 2.0 x - 2.0 y + 1.0 z + 2.0$"
      ],
      "text/plain": [
       "-2.0*x - 2.0*y + 1.0*z + 2.0"
      ]
     },
     "execution_count": 3,
     "metadata": {},
     "output_type": "execute_result"
    }
   ],
   "source": [
    "phi = sp.Matrix([u, v, u**2 + v**2]).T\n",
    "display(phi)\n",
    "planoTangente_pt_xyz(phi, u, v, 1, 1,2)"
   ]
  },
  {
   "cell_type": "code",
   "execution_count": 4,
   "metadata": {},
   "outputs": [
    {
     "data": {
      "text/latex": [
       "$\\displaystyle \\left[\\begin{matrix}1 & 0 & 1\\end{matrix}\\right]$"
      ],
      "text/plain": [
       "Matrix([[1, 0, 1]])"
      ]
     },
     "execution_count": 4,
     "metadata": {},
     "output_type": "execute_result"
    }
   ],
   "source": [
    "phi = (u, v, 0)\n",
    "primeraFormaFundamental(phi, u, v)"
   ]
  },
  {
   "cell_type": "code",
   "execution_count": 5,
   "metadata": {},
   "outputs": [
    {
     "data": {
      "text/latex": [
       "$\\displaystyle \\left[\\begin{matrix}1 & 0 & 1\\end{matrix}\\right]$"
      ],
      "text/plain": [
       "Matrix([[1, 0, 1]])"
      ]
     },
     "execution_count": 5,
     "metadata": {},
     "output_type": "execute_result"
    }
   ],
   "source": [
    "phi = (sp.cos(u), sp.sin(u), v)\n",
    "primeraFormaFundamental(phi, u, v)"
   ]
  },
  {
   "cell_type": "code",
   "execution_count": 6,
   "metadata": {},
   "outputs": [
    {
     "data": {
      "text/latex": [
       "$\\displaystyle \\left[\\begin{matrix}1 & 0 & u^{2}\\end{matrix}\\right]$"
      ],
      "text/plain": [
       "Matrix([[1, 0, u**2]])"
      ]
     },
     "execution_count": 6,
     "metadata": {},
     "output_type": "execute_result"
    }
   ],
   "source": [
    "phi = (u*sp.cos(v), u*sp.sin(v), 0)\n",
    "primeraFormaFundamental(phi, u, v)"
   ]
  },
  {
   "cell_type": "code",
   "execution_count": 7,
   "metadata": {},
   "outputs": [
    {
     "data": {
      "text/latex": [
       "$\\displaystyle \\left[\\begin{matrix}v^{2} + 2 & u v & u^{2} + 2\\end{matrix}\\right]$"
      ],
      "text/plain": [
       "Matrix([[v**2 + 2, u*v, u**2 + 2]])"
      ]
     },
     "execution_count": 7,
     "metadata": {},
     "output_type": "execute_result"
    }
   ],
   "source": [
    "phi = (u+v, u*v, u-v)\n",
    "primeraFormaFundamental(phi, u, v)"
   ]
  },
  {
   "cell_type": "code",
   "execution_count": 8,
   "metadata": {},
   "outputs": [
    {
     "data": {
      "text/latex": [
       "$\\displaystyle \\left[\\begin{matrix}4 u^{2} + 2 & 2 u - 2 v & 4 v^{2} + 1\\end{matrix}\\right]$"
      ],
      "text/plain": [
       "Matrix([[4*u**2 + 2, 2*u - 2*v, 4*v**2 + 1]])"
      ]
     },
     "execution_count": 8,
     "metadata": {},
     "output_type": "execute_result"
    }
   ],
   "source": [
    "phi = (u**2+v, u-v**2, u)\n",
    "primeraFormaFundamental(phi, u, v)"
   ]
  },
  {
   "cell_type": "code",
   "execution_count": 9,
   "metadata": {},
   "outputs": [
    {
     "data": {
      "text/latex": [
       "$\\displaystyle \\left[\\begin{matrix}2 & 0 & u^{2}\\end{matrix}\\right]$"
      ],
      "text/plain": [
       "Matrix([[2, 0, u**2]])"
      ]
     },
     "execution_count": 9,
     "metadata": {},
     "output_type": "execute_result"
    }
   ],
   "source": [
    "phi = (u*sp.cos(v), u*sp.sin(v), u)\n",
    "primeraFormaFundamental(phi, u, v)"
   ]
  },
  {
   "cell_type": "code",
   "execution_count": 10,
   "metadata": {},
   "outputs": [
    {
     "data": {
      "text/latex": [
       "$\\displaystyle \\left[\\begin{matrix}1 & 0 & a^{2} + u^{2}\\end{matrix}\\right]$"
      ],
      "text/plain": [
       "Matrix([[1, 0, a**2 + u**2]])"
      ]
     },
     "metadata": {},
     "output_type": "display_data"
    },
    {
     "data": {
      "text/latex": [
       "$\\displaystyle \\left[\\begin{matrix}1.0 & 0 & a^{2}\\end{matrix}\\right]$"
      ],
      "text/plain": [
       "Matrix([[1.0, 0, a**2]])"
      ]
     },
     "execution_count": 10,
     "metadata": {},
     "output_type": "execute_result"
    }
   ],
   "source": [
    "phi = (u*sp.cos(v), u*sp.sin(v), v*a)\n",
    "display(primeraFormaFundamental(phi, u, v))\n",
    "primeraFormaFundamental_pt_uv(phi, u, v, 0, 0)"
   ]
  },
  {
   "cell_type": "code",
   "execution_count": 11,
   "metadata": {},
   "outputs": [
    {
     "data": {
      "text/latex": [
       "$\\displaystyle \\left[\\begin{matrix}1 & 0 & 1\\end{matrix}\\right]$"
      ],
      "text/plain": [
       "Matrix([[1, 0, 1]])"
      ]
     },
     "metadata": {},
     "output_type": "display_data"
    },
    {
     "data": {
      "text/latex": [
       "$\\displaystyle \\left[\\begin{matrix}4 s^{2} + 1 & 0 & 1\\end{matrix}\\right]$"
      ],
      "text/plain": [
       "Matrix([[4*s**2 + 1, 0, 1]])"
      ]
     },
     "metadata": {},
     "output_type": "display_data"
    }
   ],
   "source": [
    "phi = (u, 0, v)\n",
    "sigma = (s, s**2, t)\n",
    "display(primeraFormaFundamental(phi, u, v))\n",
    "display(primeraFormaFundamental(sigma, s, t))"
   ]
  },
  {
   "cell_type": "code",
   "execution_count": 12,
   "metadata": {},
   "outputs": [
    {
     "data": {
      "text/latex": [
       "$\\displaystyle \\left[\\begin{matrix}1 & 0 & 1\\end{matrix}\\right]$"
      ],
      "text/plain": [
       "Matrix([[1, 0, 1]])"
      ]
     },
     "metadata": {},
     "output_type": "display_data"
    },
    {
     "data": {
      "text/latex": [
       "$\\displaystyle \\left[\\begin{matrix}0 & 0 & 0\\end{matrix}\\right]$"
      ],
      "text/plain": [
       "Matrix([[0, 0, 0]])"
      ]
     },
     "metadata": {},
     "output_type": "display_data"
    },
    {
     "data": {
      "text/latex": [
       "$\\displaystyle \\left[\\begin{matrix}1 & 0 & 1\\end{matrix}\\right]$"
      ],
      "text/plain": [
       "Matrix([[1, 0, 1]])"
      ]
     },
     "metadata": {},
     "output_type": "display_data"
    },
    {
     "data": {
      "text/latex": [
       "$\\displaystyle \\left[\\begin{matrix}-1 & 0 & 0\\end{matrix}\\right]$"
      ],
      "text/plain": [
       "Matrix([[-1, 0, 0]])"
      ]
     },
     "metadata": {},
     "output_type": "display_data"
    }
   ],
   "source": [
    "phi = (u, v, 0)\n",
    "sigma = (sp.cos(s), sp.sin(s), t)\n",
    "display(primeraFormaFundamental(phi, u, v))\n",
    "display(segundaFormaFundamental(phi, u, v))\n",
    "display(primeraFormaFundamental(sigma, s, t))\n",
    "display(segundaFormaFundamental(sigma, s, t))"
   ]
  },
  {
   "cell_type": "code",
   "execution_count": 13,
   "metadata": {},
   "outputs": [
    {
     "data": {
      "text/latex": [
       "$\\displaystyle \\left[\\begin{matrix}a^{2} & 0 & a^{2} \\cos^{2}{\\left(u \\right)}\\end{matrix}\\right]$"
      ],
      "text/plain": [
       "Matrix([[a**2, 0, a**2*cos(u)**2]])"
      ]
     },
     "metadata": {},
     "output_type": "display_data"
    },
    {
     "data": {
      "text/latex": [
       "$\\displaystyle \\left[\\begin{matrix}\\frac{a \\cos{\\left(u \\right)}}{\\left|{\\cos{\\left(u \\right)}}\\right|} & 0 & \\frac{a \\cos^{3}{\\left(u \\right)}}{\\left|{\\cos{\\left(u \\right)}}\\right|}\\end{matrix}\\right]$"
      ],
      "text/plain": [
       "Matrix([[a*cos(u)/Abs(cos(u)), 0, a*cos(u)**3/Abs(cos(u))]])"
      ]
     },
     "metadata": {},
     "output_type": "display_data"
    }
   ],
   "source": [
    "phi = (a*sp.cos(u)*sp.cos(v), a*sp.cos(u)*sp.sin(v), a*sp.sin(u))\n",
    "display(primeraFormaFundamental(phi, u, v))\n",
    "display(segundaFormaFundamental(phi, u, v))"
   ]
  },
  {
   "cell_type": "code",
   "execution_count": 14,
   "metadata": {},
   "outputs": [
    {
     "data": {
      "text/latex": [
       "$\\displaystyle \\left[\\begin{matrix}1.0 & 0 & 1.0\\end{matrix}\\right]$"
      ],
      "text/plain": [
       "Matrix([[1.0, 0, 1.0]])"
      ]
     },
     "metadata": {},
     "output_type": "display_data"
    },
    {
     "data": {
      "text/latex": [
       "$\\displaystyle \\left[\\begin{matrix}1.0 & 0 & 1.0\\end{matrix}\\right]$"
      ],
      "text/plain": [
       "Matrix([[1.0, 0, 1.0]])"
      ]
     },
     "metadata": {},
     "output_type": "display_data"
    }
   ],
   "source": [
    "phi = (sp.cos(u)*sp.cos(v), sp.cos(u)*sp.sin(v), sp.sin(u))\n",
    "display(primeraFormaFundamental_pt_uv(phi, u, v, 0, 0))\n",
    "display(segundaFormaFundamental_pt_uv(phi, u, v, 0, 0))"
   ]
  },
  {
   "cell_type": "code",
   "execution_count": 15,
   "metadata": {},
   "outputs": [
    {
     "data": {
      "text/latex": [
       "$\\displaystyle \\left[\\begin{matrix}b^{2} & 0 & \\left(a + b \\cos{\\left(u \\right)}\\right)^{2}\\end{matrix}\\right]$"
      ],
      "text/plain": [
       "Matrix([[b**2, 0, (a + b*cos(u))**2]])"
      ]
     },
     "metadata": {},
     "output_type": "display_data"
    },
    {
     "data": {
      "text/latex": [
       "$\\displaystyle \\left[\\begin{matrix}\\frac{b^{2} \\left(a + b \\cos{\\left(u \\right)}\\right)}{\\left|{b \\left(a + b \\cos{\\left(u \\right)}\\right)}\\right|} & 0 & \\frac{b \\left(a + b \\cos{\\left(u \\right)}\\right)^{2} \\cos{\\left(u \\right)}}{\\left|{b \\left(a + b \\cos{\\left(u \\right)}\\right)}\\right|}\\end{matrix}\\right]$"
      ],
      "text/plain": [
       "Matrix([[b**2*(a + b*cos(u))/Abs(b*(a + b*cos(u))), 0, b*(a + b*cos(u))**2*cos(u)/Abs(b*(a + b*cos(u)))]])"
      ]
     },
     "metadata": {},
     "output_type": "display_data"
    }
   ],
   "source": [
    "phi = ( (a+b*sp.cos(u))*sp.cos(v), (a+b*sp.cos(u))*sp.sin(v), b*sp.sin(u))\n",
    "display(primeraFormaFundamental(phi, u, v))\n",
    "display(segundaFormaFundamental(phi, u, v))"
   ]
  },
  {
   "cell_type": "code",
   "execution_count": 16,
   "metadata": {},
   "outputs": [
    {
     "data": {
      "text/latex": [
       "$\\displaystyle \\left[\\begin{matrix}5.0 & 2.0 & 2.0\\end{matrix}\\right]$"
      ],
      "text/plain": [
       "Matrix([[5.0, 2.0, 2.0]])"
      ]
     },
     "metadata": {},
     "output_type": "display_data"
    },
    {
     "data": {
      "text/latex": [
       "$\\displaystyle \\left[\\begin{matrix}-0.816496580927726 & 0 & 0\\end{matrix}\\right]$"
      ],
      "text/plain": [
       "Matrix([[-0.816496580927726, 0, 0]])"
      ]
     },
     "metadata": {},
     "output_type": "display_data"
    }
   ],
   "source": [
    "phi = ( u, u**2+v, v)\n",
    "display(primeraFormaFundamental_pt_uv(phi, u, v, 1, 1))\n",
    "display(segundaFormaFundamental_pt_uv(phi, u, v, 1, 1))       #REVISAR"
   ]
  },
  {
   "cell_type": "code",
   "execution_count": 17,
   "metadata": {},
   "outputs": [
    {
     "data": {
      "text/latex": [
       "$\\displaystyle \\left[\\begin{matrix}1 & 0 & 1\\end{matrix}\\right]$"
      ],
      "text/plain": [
       "Matrix([[1, 0, 1]])"
      ]
     },
     "metadata": {},
     "output_type": "display_data"
    },
    {
     "data": {
      "text/latex": [
       "$\\displaystyle \\left[\\begin{matrix}0 & 0 & 0\\end{matrix}\\right]$"
      ],
      "text/plain": [
       "Matrix([[0, 0, 0]])"
      ]
     },
     "metadata": {},
     "output_type": "display_data"
    }
   ],
   "source": [
    "phi = ( u, v, 0)\n",
    "display(primeraFormaFundamental(phi, u, v))\n",
    "display(segundaFormaFundamental(phi, u, v)) "
   ]
  },
  {
   "cell_type": "code",
   "execution_count": 18,
   "metadata": {},
   "outputs": [
    {
     "data": {
      "text/latex": [
       "$\\displaystyle \\left[\\begin{matrix}1 & 0 & \\cos^{2}{\\left(u \\right)}\\end{matrix}\\right]$"
      ],
      "text/plain": [
       "Matrix([[1, 0, cos(u)**2]])"
      ]
     },
     "metadata": {},
     "output_type": "display_data"
    },
    {
     "data": {
      "text/latex": [
       "$\\displaystyle \\left[\\begin{matrix}\\frac{\\cos{\\left(u \\right)}}{\\left|{\\cos{\\left(u \\right)}}\\right|} & 0 & \\frac{\\cos^{3}{\\left(u \\right)}}{\\left|{\\cos{\\left(u \\right)}}\\right|}\\end{matrix}\\right]$"
      ],
      "text/plain": [
       "Matrix([[cos(u)/Abs(cos(u)), 0, cos(u)**3/Abs(cos(u))]])"
      ]
     },
     "metadata": {},
     "output_type": "display_data"
    }
   ],
   "source": [
    "phi = ( sp.cos(u)*sp.cos(v), sp.cos(u)*sp.sin(v), sp.sin(u))\n",
    "display(primeraFormaFundamental(phi, u, v))\n",
    "display(segundaFormaFundamental(phi, u, v))           #Revisar"
   ]
  },
  {
   "cell_type": "code",
   "execution_count": 19,
   "metadata": {},
   "outputs": [
    {
     "data": {
      "text/latex": [
       "$\\displaystyle \\left[\\begin{matrix}- \\cos{\\left(v \\right)} & - \\sin{\\left(v \\right)} & 0\\end{matrix}\\right]$"
      ],
      "text/plain": [
       "Matrix([[-cos(v), -sin(v), 0]])"
      ]
     },
     "metadata": {},
     "output_type": "display_data"
    },
    {
     "data": {
      "text/latex": [
       "$\\displaystyle \\left[\\begin{matrix}1 & 0 & 1\\end{matrix}\\right]$"
      ],
      "text/plain": [
       "Matrix([[1, 0, 1]])"
      ]
     },
     "metadata": {},
     "output_type": "display_data"
    },
    {
     "data": {
      "text/latex": [
       "$\\displaystyle \\left[\\begin{matrix}0 & 0 & 1\\end{matrix}\\right]$"
      ],
      "text/plain": [
       "Matrix([[0, 0, 1]])"
      ]
     },
     "metadata": {},
     "output_type": "display_data"
    }
   ],
   "source": [
    "phi = ( sp.cos(v), sp.sin(v), u)\n",
    "display(normal(phi, u, v))\n",
    "display(primeraFormaFundamental(phi, u, v))\n",
    "display(segundaFormaFundamental(phi, u, v)) "
   ]
  },
  {
   "cell_type": "code",
   "execution_count": 20,
   "metadata": {},
   "outputs": [
    {
     "data": {
      "text/latex": [
       "$\\displaystyle \\left[\\begin{matrix}\\cosh{\\left(2 u \\right)} & 0 & \\cosh^{2}{\\left(u \\right)}\\end{matrix}\\right]$"
      ],
      "text/plain": [
       "Matrix([[cosh(2*u), 0, cosh(u)**2]])"
      ]
     },
     "metadata": {},
     "output_type": "display_data"
    },
    {
     "data": {
      "text/latex": [
       "$\\displaystyle \\left[\\begin{matrix}- \\frac{1}{\\sqrt{\\cosh{\\left(2 u \\right)}}} & 0 & \\frac{\\cosh^{2}{\\left(u \\right)}}{\\sqrt{\\cosh{\\left(2 u \\right)}}}\\end{matrix}\\right]$"
      ],
      "text/plain": [
       "Matrix([[-1/sqrt(cosh(2*u)), 0, cosh(u)**2/sqrt(cosh(2*u))]])"
      ]
     },
     "metadata": {},
     "output_type": "display_data"
    }
   ],
   "source": [
    "phi = ( sp.cosh(u)*sp.cos(v), sp.cosh(u)*sp.sin(v), sp.sinh(u))\n",
    "display(primeraFormaFundamental(phi, u, v))\n",
    "display(segundaFormaFundamental(phi, u, v)) "
   ]
  },
  {
   "cell_type": "code",
   "execution_count": 21,
   "metadata": {},
   "outputs": [
    {
     "data": {
      "text/latex": [
       "$\\displaystyle \\left[\\begin{matrix}- \\frac{2 u}{\\sqrt{4 u^{2} + 4 v^{2} + 1}} & - \\frac{2 v}{\\sqrt{4 u^{2} + 4 v^{2} + 1}} & \\frac{1}{\\sqrt{4 u^{2} + 4 v^{2} + 1}}\\end{matrix}\\right]$"
      ],
      "text/plain": [
       "Matrix([[-2*u/sqrt(4*u**2 + 4*v**2 + 1), -2*v/sqrt(4*u**2 + 4*v**2 + 1), 1/sqrt(4*u**2 + 4*v**2 + 1)]])"
      ]
     },
     "metadata": {},
     "output_type": "display_data"
    },
    {
     "data": {
      "text/latex": [
       "$\\displaystyle \\left[\\begin{matrix}4 u^{2} + 1 & 4 u v & 4 v^{2} + 1\\end{matrix}\\right]$"
      ],
      "text/plain": [
       "Matrix([[4*u**2 + 1, 4*u*v, 4*v**2 + 1]])"
      ]
     },
     "metadata": {},
     "output_type": "display_data"
    },
    {
     "data": {
      "text/latex": [
       "$\\displaystyle \\left[\\begin{matrix}\\frac{2}{\\sqrt{4 u^{2} + 4 v^{2} + 1}} & 0 & \\frac{2}{\\sqrt{4 u^{2} + 4 v^{2} + 1}}\\end{matrix}\\right]$"
      ],
      "text/plain": [
       "Matrix([[2/sqrt(4*u**2 + 4*v**2 + 1), 0, 2/sqrt(4*u**2 + 4*v**2 + 1)]])"
      ]
     },
     "metadata": {},
     "output_type": "display_data"
    }
   ],
   "source": [
    "phi = ( u, v, u**2+v**2)\n",
    "display(normal(phi, u, v))\n",
    "display(primeraFormaFundamental(phi, u, v))\n",
    "display(segundaFormaFundamental(phi, u, v))       #Revisar"
   ]
  },
  {
   "cell_type": "code",
   "execution_count": 22,
   "metadata": {},
   "outputs": [
    {
     "data": {
      "text/latex": [
       "$\\displaystyle \\left[\\begin{matrix}- \\frac{2 s^{2} \\cos{\\left(t \\right)}}{\\sqrt{4 s^{2} + 1} \\left|{s}\\right|} & - \\frac{2 s^{2} \\sin{\\left(t \\right)}}{\\sqrt{4 s^{2} + 1} \\left|{s}\\right|} & \\frac{s}{\\sqrt{4 s^{2} + 1} \\left|{s}\\right|}\\end{matrix}\\right]$"
      ],
      "text/plain": [
       "Matrix([[-2*s**2*cos(t)/(sqrt(4*s**2 + 1)*Abs(s)), -2*s**2*sin(t)/(sqrt(4*s**2 + 1)*Abs(s)), s/(sqrt(4*s**2 + 1)*Abs(s))]])"
      ]
     },
     "metadata": {},
     "output_type": "display_data"
    },
    {
     "data": {
      "text/latex": [
       "$\\displaystyle \\left[\\begin{matrix}4 s^{2} + 1 & 0 & s^{2}\\end{matrix}\\right]$"
      ],
      "text/plain": [
       "Matrix([[4*s**2 + 1, 0, s**2]])"
      ]
     },
     "metadata": {},
     "output_type": "display_data"
    },
    {
     "data": {
      "text/latex": [
       "$\\displaystyle \\left[\\begin{matrix}\\frac{2 s}{\\sqrt{4 s^{2} + 1} \\left|{s}\\right|} & 0 & \\frac{2 s^{3}}{\\sqrt{4 s^{2} + 1} \\left|{s}\\right|}\\end{matrix}\\right]$"
      ],
      "text/plain": [
       "Matrix([[2*s/(sqrt(4*s**2 + 1)*Abs(s)), 0, 2*s**3/(sqrt(4*s**2 + 1)*Abs(s))]])"
      ]
     },
     "metadata": {},
     "output_type": "display_data"
    }
   ],
   "source": [
    "omega = (s*sp.cos(t), s*sp.sin(t), s**2)\n",
    "display(normal(omega, s, t))\n",
    "display(primeraFormaFundamental(omega, s, t))\n",
    "display(segundaFormaFundamental(omega, s, t))     #Revisar"
   ]
  },
  {
   "cell_type": "code",
   "execution_count": 23,
   "metadata": {},
   "outputs": [
    {
     "data": {
      "text/latex": [
       "$\\displaystyle \\left[\\begin{matrix}\\frac{2 \\cos^{2}{\\left(u \\right)} \\cos{\\left(v \\right)}}{\\sqrt{4 - 3 \\sin^{2}{\\left(u \\right)}} \\left|{\\cos{\\left(u \\right)}}\\right|} & - \\frac{2 \\sin{\\left(v \\right)} \\cos^{2}{\\left(u \\right)}}{\\sqrt{4 - 3 \\sin^{2}{\\left(u \\right)}} \\left|{\\cos{\\left(u \\right)}}\\right|} & \\frac{\\sqrt{2} \\sin{\\left(2 u \\right)}}{2 \\sqrt{3 \\cos{\\left(2 u \\right)} + 5} \\left|{\\cos{\\left(u \\right)}}\\right|}\\end{matrix}\\right]$"
      ],
      "text/plain": [
       "Matrix([[2*cos(u)**2*cos(v)/(sqrt(4 - 3*sin(u)**2)*Abs(cos(u))), -2*sin(v)*cos(u)**2/(sqrt(4 - 3*sin(u)**2)*Abs(cos(u))), sqrt(2)*sin(2*u)/(2*sqrt(3*cos(2*u) + 5)*Abs(cos(u)))]])"
      ]
     },
     "metadata": {},
     "output_type": "display_data"
    },
    {
     "data": {
      "text/latex": [
       "$\\displaystyle \\left[\\begin{matrix}4 - 3 \\sin^{2}{\\left(u \\right)} & 0 & \\cos^{2}{\\left(u \\right)}\\end{matrix}\\right]$"
      ],
      "text/plain": [
       "Matrix([[4 - 3*sin(u)**2, 0, cos(u)**2]])"
      ]
     },
     "metadata": {},
     "output_type": "display_data"
    },
    {
     "data": {
      "text/latex": [
       "$\\displaystyle \\left[\\begin{matrix}- \\frac{2 \\sqrt{2} \\left|{\\cos{\\left(u \\right)}}\\right|}{\\sqrt{3 \\cos{\\left(2 u \\right)} + 5} \\cos{\\left(u \\right)}} & 0 & - \\frac{2 \\cos^{3}{\\left(u \\right)}}{\\sqrt{4 - 3 \\sin^{2}{\\left(u \\right)}} \\left|{\\cos{\\left(u \\right)}}\\right|}\\end{matrix}\\right]$"
      ],
      "text/plain": [
       "Matrix([[-2*sqrt(2)*Abs(cos(u))/(sqrt(3*cos(2*u) + 5)*cos(u)), 0, -2*cos(u)**3/(sqrt(4 - 3*sin(u)**2)*Abs(cos(u)))]])"
      ]
     },
     "metadata": {},
     "output_type": "display_data"
    },
    {
     "ename": "NameError",
     "evalue": "name 'primeraFormaFundamental' is not defined",
     "output_type": "error",
     "traceback": [
      "\u001b[1;31m---------------------------------------------------------------------------\u001b[0m",
      "\u001b[1;31mNameError\u001b[0m                                 Traceback (most recent call last)",
      "\u001b[1;32mc:\\Users\\asier\\OneDrive\\Documentos\\GitHub\\geometria_diferencial\\calc\\comprobaciones_calc.ipynb Celda 25\u001b[0m line \u001b[0;36m5\n\u001b[0;32m      <a href='vscode-notebook-cell:/c%3A/Users/asier/OneDrive/Documentos/GitHub/geometria_diferencial/calc/comprobaciones_calc.ipynb#X33sZmlsZQ%3D%3D?line=2'>3</a>\u001b[0m display(primeraFormaFundamental(phi, u, v))\n\u001b[0;32m      <a href='vscode-notebook-cell:/c%3A/Users/asier/OneDrive/Documentos/GitHub/geometria_diferencial/calc/comprobaciones_calc.ipynb#X33sZmlsZQ%3D%3D?line=3'>4</a>\u001b[0m display(segundaFormaFundamental(phi, u, v))\n\u001b[1;32m----> <a href='vscode-notebook-cell:/c%3A/Users/asier/OneDrive/Documentos/GitHub/geometria_diferencial/calc/comprobaciones_calc.ipynb#X33sZmlsZQ%3D%3D?line=4'>5</a>\u001b[0m display(curvaturasPrincipales(phi, u, v))\n",
      "File \u001b[1;32mc:\\Users\\asier\\OneDrive\\Documentos\\GitHub\\geometria_diferencial\\calc\\curv.py:150\u001b[0m, in \u001b[0;36mcurvaturasPrincipales\u001b[1;34m(parametrizacion, u, v, K, H, EFG, efg)\u001b[0m\n\u001b[0;32m    138\u001b[0m \u001b[39m\u001b[39m\u001b[39m\"\"\"\u001b[39;00m\n\u001b[0;32m    139\u001b[0m \u001b[39mRetorna las curvaturas principales como tupla\u001b[39;00m\n\u001b[0;32m    140\u001b[0m \u001b[39mNo se hacen comprobaciones de tipo\u001b[39;00m\n\u001b[1;32m   (...)\u001b[0m\n\u001b[0;32m    147\u001b[0m \u001b[39mH                   parametro opcional por si se tiene ya calculada curvatura Media\u001b[39;00m\n\u001b[0;32m    148\u001b[0m \u001b[39m\"\"\"\u001b[39;00m\n\u001b[0;32m    149\u001b[0m \u001b[39mif\u001b[39;00m \u001b[39mnot\u001b[39;00m K \u001b[39mand\u001b[39;00m \u001b[39mnot\u001b[39;00m H:\n\u001b[1;32m--> 150\u001b[0m     E, F, G \u001b[39m=\u001b[39m primeraFormaFundamental(parametrizacion, u, v)\n\u001b[0;32m    151\u001b[0m     e, f, g \u001b[39m=\u001b[39m segundaFormaFundamental(parametrizacion, u, v)\n\u001b[0;32m    152\u001b[0m     K \u001b[39m=\u001b[39m curvaturaGauss(parametrizacion, u, v, EFG\u001b[39m=\u001b[39m(E, F, G), efg\u001b[39m=\u001b[39m(e,f,g))\n",
      "\u001b[1;31mNameError\u001b[0m: name 'primeraFormaFundamental' is not defined"
     ]
    }
   ],
   "source": [
    "phi = ( sp.cos(u)*sp.cos(v), -sp.cos(u)*sp.sin(v), 2*sp.sin(u))\n",
    "display(normal(phi, u, v))\n",
    "display(primeraFormaFundamental(phi, u, v))\n",
    "display(segundaFormaFundamental(phi, u, v))\n",
    "display(curvaturasPrincipales(phi, u, v))"
   ]
  },
  {
   "cell_type": "code",
   "execution_count": 24,
   "metadata": {},
   "outputs": [
    {
     "data": {
      "text/latex": [
       "$\\displaystyle \\left[\\begin{matrix}u^{2} + 1 & 0 & u^{2}\\end{matrix}\\right]$"
      ],
      "text/plain": [
       "Matrix([[u**2 + 1, 0, u**2]])"
      ]
     },
     "metadata": {},
     "output_type": "display_data"
    },
    {
     "data": {
      "text/latex": [
       "$\\displaystyle \\left[\\begin{matrix}\\frac{u}{\\sqrt{u^{2} + 1} \\left|{u}\\right|} & 0 & \\frac{u^{3}}{\\sqrt{u^{2} + 1} \\left|{u}\\right|}\\end{matrix}\\right]$"
      ],
      "text/plain": [
       "Matrix([[u/(sqrt(u**2 + 1)*Abs(u)), 0, u**3/(sqrt(u**2 + 1)*Abs(u))]])"
      ]
     },
     "metadata": {},
     "output_type": "display_data"
    },
    {
     "ename": "NameError",
     "evalue": "name 'primeraFormaFundamental' is not defined",
     "output_type": "error",
     "traceback": [
      "\u001b[1;31m---------------------------------------------------------------------------\u001b[0m",
      "\u001b[1;31mNameError\u001b[0m                                 Traceback (most recent call last)",
      "\u001b[1;32mc:\\Users\\asier\\OneDrive\\Documentos\\GitHub\\geometria_diferencial\\calc\\comprobaciones_calc.ipynb Celda 26\u001b[0m line \u001b[0;36m9\n\u001b[0;32m      <a href='vscode-notebook-cell:/c%3A/Users/asier/OneDrive/Documentos/GitHub/geometria_diferencial/calc/comprobaciones_calc.ipynb#X34sZmlsZQ%3D%3D?line=6'>7</a>\u001b[0m display(primeraFormaFundamental(phi, u, v))\n\u001b[0;32m      <a href='vscode-notebook-cell:/c%3A/Users/asier/OneDrive/Documentos/GitHub/geometria_diferencial/calc/comprobaciones_calc.ipynb#X34sZmlsZQ%3D%3D?line=7'>8</a>\u001b[0m display(segundaFormaFundamental(phi, u, v))\n\u001b[1;32m----> <a href='vscode-notebook-cell:/c%3A/Users/asier/OneDrive/Documentos/GitHub/geometria_diferencial/calc/comprobaciones_calc.ipynb#X34sZmlsZQ%3D%3D?line=8'>9</a>\u001b[0m display(curvaturaMedia(phi, u, v))\n\u001b[0;32m     <a href='vscode-notebook-cell:/c%3A/Users/asier/OneDrive/Documentos/GitHub/geometria_diferencial/calc/comprobaciones_calc.ipynb#X34sZmlsZQ%3D%3D?line=9'>10</a>\u001b[0m display(curvaturaGauss(phi, u, v))\n\u001b[0;32m     <a href='vscode-notebook-cell:/c%3A/Users/asier/OneDrive/Documentos/GitHub/geometria_diferencial/calc/comprobaciones_calc.ipynb#X34sZmlsZQ%3D%3D?line=10'>11</a>\u001b[0m display(curvaturasPrincipales(phi, u, v))\n",
      "File \u001b[1;32mc:\\Users\\asier\\OneDrive\\Documentos\\GitHub\\geometria_diferencial\\calc\\curv.py:86\u001b[0m, in \u001b[0;36mcurvaturaMedia\u001b[1;34m(parametrizacion, u, v, EFG, efg)\u001b[0m\n\u001b[0;32m     74\u001b[0m \u001b[39mdef\u001b[39;00m \u001b[39mcurvaturaMedia\u001b[39m(parametrizacion, u, v, EFG\u001b[39m=\u001b[39m\u001b[39mNone\u001b[39;00m, efg\u001b[39m=\u001b[39m\u001b[39mNone\u001b[39;00m):\n\u001b[0;32m     75\u001b[0m \u001b[39m    \u001b[39m\u001b[39m\"\"\"\u001b[39;00m\n\u001b[0;32m     76\u001b[0m \u001b[39m    Retorna la curvatura media\u001b[39;00m\n\u001b[0;32m     77\u001b[0m \u001b[39m    No se hacen comprobaciones de tipo\u001b[39;00m\n\u001b[1;32m   (...)\u001b[0m\n\u001b[0;32m     84\u001b[0m \u001b[39m    efg                 parametro opcional (tupla de longitud 3) por si se tienen ya calculados e, f, g\u001b[39;00m\n\u001b[0;32m     85\u001b[0m \u001b[39m    \"\"\"\u001b[39;00m\n\u001b[1;32m---> 86\u001b[0m     E, F, G \u001b[39m=\u001b[39m EFG \u001b[39mif\u001b[39;00m EFG \u001b[39melse\u001b[39;00m primeraFormaFundamental(parametrizacion, u, v)\n\u001b[0;32m     87\u001b[0m     e, f, g \u001b[39m=\u001b[39m efg \u001b[39mif\u001b[39;00m efg \u001b[39melse\u001b[39;00m segundaFormaFundamental(parametrizacion, u, v)\n\u001b[0;32m     88\u001b[0m     \u001b[39mreturn\u001b[39;00m sp\u001b[39m.\u001b[39msimplify((e\u001b[39m*\u001b[39mG \u001b[39m+\u001b[39m g\u001b[39m*\u001b[39mE \u001b[39m-\u001b[39m \u001b[39m2\u001b[39m\u001b[39m*\u001b[39mf\u001b[39m*\u001b[39mF) \u001b[39m/\u001b[39m (\u001b[39m2\u001b[39m\u001b[39m*\u001b[39m(E\u001b[39m*\u001b[39mG \u001b[39m-\u001b[39m F\u001b[39m*\u001b[39m\u001b[39m*\u001b[39m\u001b[39m2\u001b[39m)))\n",
      "\u001b[1;31mNameError\u001b[0m: name 'primeraFormaFundamental' is not defined"
     ]
    }
   ],
   "source": [
    "phi = ( u*sp.cos(v), u*sp.sin(v), (u**2)/2)\n",
    "E, F, G = primeraFormaFundamental(phi, u, v)\n",
    "e, f, g = segundaFormaFundamental(phi, u, v)\n",
    "H = curvaturaMedia(phi, u, v, EFG=(E, F, G), efg=(e, f, g))\n",
    "K = curvaturaGauss(phi, u, v, EFG=(E, F, G), efg=(e, f, g))\n",
    "\n",
    "display(primeraFormaFundamental(phi, u, v))\n",
    "display(segundaFormaFundamental(phi, u, v))\n",
    "display(curvaturaMedia(phi, u, v))\n",
    "display(curvaturaGauss(phi, u, v))\n",
    "display(curvaturasPrincipales(phi, u, v))"
   ]
  }
 ],
 "metadata": {
  "kernelspec": {
   "display_name": "Python 3",
   "language": "python",
   "name": "python3"
  },
  "language_info": {
   "codemirror_mode": {
    "name": "ipython",
    "version": 3
   },
   "file_extension": ".py",
   "mimetype": "text/x-python",
   "name": "python",
   "nbconvert_exporter": "python",
   "pygments_lexer": "ipython3",
   "version": "3.11.0"
  }
 },
 "nbformat": 4,
 "nbformat_minor": 2
}
