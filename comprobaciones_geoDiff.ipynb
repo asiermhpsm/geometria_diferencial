{
 "cells": [
  {
   "cell_type": "markdown",
   "metadata": {},
   "source": [
    "# Comprobaciones de los metodos relacionados con la Geometría diferencial"
   ]
  },
  {
   "cell_type": "code",
   "execution_count": 48,
   "metadata": {},
   "outputs": [],
   "source": [
    "from geoDiff import *\n",
    "from sympy import init_printing"
   ]
  },
  {
   "cell_type": "code",
   "execution_count": 49,
   "metadata": {},
   "outputs": [],
   "source": [
    "init_printing(use_unicode=True)\n",
    "\n",
    "u, v = sp.symbols('u, v', real = True)          #Variables para parametrizacion\n",
    "s, t = sp.symbols('s, t', real = True)          #Variables para parametrizacion\n",
    "x, y, z = sp.symbols('x, y z', real = True)     #Variables para eje x, y, z\n",
    "a, b = sp.symbols('a, b', real = True)          #Parametro numerico\n"
   ]
  },
  {
   "cell_type": "markdown",
   "metadata": {},
   "source": [
    "## Pruebas"
   ]
  },
  {
   "cell_type": "code",
   "execution_count": 50,
   "metadata": {},
   "outputs": [
    {
     "data": {
      "image/png": "[encoded data removed]",
      "text/latex": [
       "$\\displaystyle \\left( u, \\  v, \\  u^{2} + v^{2}\\right)$"
      ],
      "text/plain": [
       "⎛       2    2⎞\n",
       "⎝u, v, u  + v ⎠"
      ]
     },
     "metadata": {},
     "output_type": "display_data"
    },
    {
     "data": {
      "image/png": "[encoded data removed]",
      "text/latex": [
       "$\\displaystyle - 2.0 x - 2.0 y + 1.0 z + 2.0$"
      ],
      "text/plain": [
       "-2.0⋅x - 2.0⋅y + 1.0⋅z + 2.0"
      ]
     },
     "execution_count": 50,
     "metadata": {},
     "output_type": "execute_result"
    }
   ],
   "source": [
    "phi = (u, v, u**2 + v**2)\n",
    "display(phi)\n",
    "planoTangente_pt_xyz(phi, u, v, 1, 1,2)"
   ]
  },
  {
   "cell_type": "code",
   "execution_count": 51,
   "metadata": {},
   "outputs": [
    {
     "data": {
      "image/png": "[encoded data removed]",
      "text/latex": [
       "$\\displaystyle \\left( 1, \\  0, \\  1\\right)$"
      ],
      "text/plain": [
       "(1, 0, 1)"
      ]
     },
     "execution_count": 51,
     "metadata": {},
     "output_type": "execute_result"
    }
   ],
   "source": [
    "phi = (u, v, 0)\n",
    "primeraFormaFundamental(phi, u, v)"
   ]
  },
  {
   "cell_type": "code",
   "execution_count": 52,
   "metadata": {},
   "outputs": [
    {
     "data": {
      "image/png": "[encoded data removed]",
      "text/latex": [
       "$\\displaystyle \\left( 1, \\  0, \\  1\\right)$"
      ],
      "text/plain": [
       "(1, 0, 1)"
      ]
     },
     "execution_count": 52,
     "metadata": {},
     "output_type": "execute_result"
    }
   ],
   "source": [
    "phi = (sp.cos(u), sp.sin(u), v)\n",
    "primeraFormaFundamental(phi, u, v)"
   ]
  },
  {
   "cell_type": "code",
   "execution_count": 53,
   "metadata": {},
   "outputs": [
    {
     "data": {
      "image/png": "[encoded data removed]",
      "text/latex": [
       "$\\displaystyle \\left( 1, \\  0, \\  u^{2}\\right)$"
      ],
      "text/plain": [
       "⎛       2⎞\n",
       "⎝1, 0, u ⎠"
      ]
     },
     "execution_count": 53,
     "metadata": {},
     "output_type": "execute_result"
    }
   ],
   "source": [
    "phi = (u*sp.cos(v), u*sp.sin(v), 0)\n",
    "primeraFormaFundamental(phi, u, v)"
   ]
  },
  {
   "cell_type": "code",
   "execution_count": 54,
   "metadata": {},
   "outputs": [
    {
     "data": {
      "image/png": "[encoded data removed]",
      "text/latex": [
       "$\\displaystyle \\left( v^{2} + 2, \\  u v, \\  u^{2} + 2\\right)$"
      ],
      "text/plain": [
       "⎛ 2            2    ⎞\n",
       "⎝v  + 2, u⋅v, u  + 2⎠"
      ]
     },
     "execution_count": 54,
     "metadata": {},
     "output_type": "execute_result"
    }
   ],
   "source": [
    "phi = (u+v, u*v, u-v)\n",
    "primeraFormaFundamental(phi, u, v)"
   ]
  },
  {
   "cell_type": "code",
   "execution_count": 55,
   "metadata": {},
   "outputs": [
    {
     "data": {
      "image/png": "[encoded data removed]",
      "text/latex": [
       "$\\displaystyle \\left( 4 u^{2} + 2, \\  2 u - 2 v, \\  4 v^{2} + 1\\right)$"
      ],
      "text/plain": [
       "⎛   2                    2    ⎞\n",
       "⎝4⋅u  + 2, 2⋅u - 2⋅v, 4⋅v  + 1⎠"
      ]
     },
     "execution_count": 55,
     "metadata": {},
     "output_type": "execute_result"
    }
   ],
   "source": [
    "phi = (u**2+v, u-v**2, u)\n",
    "primeraFormaFundamental(phi, u, v)"
   ]
  },
  {
   "cell_type": "code",
   "execution_count": 56,
   "metadata": {},
   "outputs": [
    {
     "data": {
      "image/png": "[encoded data removed]",
      "text/latex": [
       "$\\displaystyle \\left( 2, \\  0, \\  u^{2}\\right)$"
      ],
      "text/plain": [
       "⎛       2⎞\n",
       "⎝2, 0, u ⎠"
      ]
     },
     "execution_count": 56,
     "metadata": {},
     "output_type": "execute_result"
    }
   ],
   "source": [
    "phi = (u*sp.cos(v), u*sp.sin(v), u)\n",
    "primeraFormaFundamental(phi, u, v)"
   ]
  },
  {
   "cell_type": "code",
   "execution_count": 57,
   "metadata": {},
   "outputs": [
    {
     "data": {
      "image/png": "[encoded data removed]",
      "text/latex": [
       "$\\displaystyle \\left( 1, \\  0, \\  a^{2} + u^{2}\\right)$"
      ],
      "text/plain": [
       "⎛       2    2⎞\n",
       "⎝1, 0, a  + u ⎠"
      ]
     },
     "metadata": {},
     "output_type": "display_data"
    },
    {
     "data": {
      "image/png": "[encoded data removed]",
      "text/latex": [
       "$\\displaystyle \\left( 1.0, \\  0, \\  a^{2}\\right)$"
      ],
      "text/plain": [
       "⎛         2⎞\n",
       "⎝1.0, 0, a ⎠"
      ]
     },
     "execution_count": 57,
     "metadata": {},
     "output_type": "execute_result"
    }
   ],
   "source": [
    "phi = (u*sp.cos(v), u*sp.sin(v), v*a)\n",
    "EFG = primeraFormaFundamental(phi, u, v)\n",
    "display(EFG)\n",
    "primeraFormaFundamental_pt_uv(phi, u, v, 0, 0, EFG=EFG)"
   ]
  },
  {
   "cell_type": "code",
   "execution_count": 58,
   "metadata": {},
   "outputs": [
    {
     "data": {
      "image/png": "[encoded data removed]",
      "text/latex": [
       "$\\displaystyle \\left( 1, \\  0, \\  1\\right)$"
      ],
      "text/plain": [
       "(1, 0, 1)"
      ]
     },
     "metadata": {},
     "output_type": "display_data"
    },
    {
     "data": {
      "image/png": "[encoded data removed]",
      "text/latex": [
       "$\\displaystyle \\left( 4 s^{2} + 1, \\  0, \\  1\\right)$"
      ],
      "text/plain": [
       "⎛   2          ⎞\n",
       "⎝4⋅s  + 1, 0, 1⎠"
      ]
     },
     "metadata": {},
     "output_type": "display_data"
    }
   ],
   "source": [
    "phi = (u, 0, v)\n",
    "sigma = (s, s**2, t)\n",
    "display(primeraFormaFundamental(phi, u, v))\n",
    "display(primeraFormaFundamental(sigma, s, t))"
   ]
  },
  {
   "cell_type": "code",
   "execution_count": 59,
   "metadata": {},
   "outputs": [
    {
     "data": {
      "image/png": "[encoded data removed]",
      "text/latex": [
       "$\\displaystyle \\left( 1, \\  0, \\  1\\right)$"
      ],
      "text/plain": [
       "(1, 0, 1)"
      ]
     },
     "metadata": {},
     "output_type": "display_data"
    },
    {
     "data": {
      "image/png": "[encoded data removed]",
      "text/latex": [
       "$\\displaystyle \\left( 0, \\  0, \\  0\\right)$"
      ],
      "text/plain": [
       "(0, 0, 0)"
      ]
     },
     "metadata": {},
     "output_type": "display_data"
    },
    {
     "data": {
      "image/png": "[encoded data removed]",
      "text/latex": [
       "$\\displaystyle \\left( 1, \\  0, \\  1\\right)$"
      ],
      "text/plain": [
       "(1, 0, 1)"
      ]
     },
     "metadata": {},
     "output_type": "display_data"
    },
    {
     "data": {
      "image/png": "[encoded data removed]",
      "text/latex": [
       "$\\displaystyle \\left( -1, \\  0, \\  0\\right)$"
      ],
      "text/plain": [
       "(-1, 0, 0)"
      ]
     },
     "metadata": {},
     "output_type": "display_data"
    }
   ],
   "source": [
    "phi = (u, v, 0)\n",
    "sigma = (sp.cos(s), sp.sin(s), t)\n",
    "display(primeraFormaFundamental(phi, u, v))\n",
    "display(segundaFormaFundamental(phi, u, v))\n",
    "display(primeraFormaFundamental(sigma, s, t))\n",
    "display(segundaFormaFundamental(sigma, s, t))"
   ]
  },
  {
   "cell_type": "code",
   "execution_count": 60,
   "metadata": {},
   "outputs": [
    {
     "data": {
      "image/png": "[encoded data removed]",
      "text/latex": [
       "$\\displaystyle \\left( a^{2}, \\  0, \\  a^{2} \\cos^{2}{\\left(u \\right)}\\right)$"
      ],
      "text/plain": [
       "⎛ 2      2    2   ⎞\n",
       "⎝a , 0, a ⋅cos (u)⎠"
      ]
     },
     "metadata": {},
     "output_type": "display_data"
    },
    {
     "data": {
      "image/png": "[encoded data removed]",
      "text/latex": [
       "$\\displaystyle \\left( \\frac{a \\cos{\\left(u \\right)}}{\\left|{\\cos{\\left(u \\right)}}\\right|}, \\  0, \\  \\frac{a \\cos^{3}{\\left(u \\right)}}{\\left|{\\cos{\\left(u \\right)}}\\right|}\\right)$"
      ],
      "text/plain": [
       "⎛                  3   ⎞\n",
       "⎜a⋅cos(u)     a⋅cos (u)⎟\n",
       "⎜────────, 0, ─────────⎟\n",
       "⎝│cos(u)│      │cos(u)│⎠"
      ]
     },
     "metadata": {},
     "output_type": "display_data"
    }
   ],
   "source": [
    "phi = (a*sp.cos(u)*sp.cos(v), a*sp.cos(u)*sp.sin(v), a*sp.sin(u))\n",
    "display(primeraFormaFundamental(phi, u, v))\n",
    "display(segundaFormaFundamental(phi, u, v))"
   ]
  },
  {
   "cell_type": "code",
   "execution_count": 61,
   "metadata": {},
   "outputs": [
    {
     "data": {
      "image/png": "[encoded data removed]",
      "text/latex": [
       "$\\displaystyle \\left( 1.0, \\  0, \\  1.0\\right)$"
      ],
      "text/plain": [
       "(1.0, 0, 1.0)"
      ]
     },
     "metadata": {},
     "output_type": "display_data"
    },
    {
     "data": {
      "image/png": "[encoded data removed]",
      "text/latex": [
       "$\\displaystyle \\left( 1.0, \\  0, \\  1.0\\right)$"
      ],
      "text/plain": [
       "(1.0, 0, 1.0)"
      ]
     },
     "metadata": {},
     "output_type": "display_data"
    }
   ],
   "source": [
    "phi = (sp.cos(u)*sp.cos(v), sp.cos(u)*sp.sin(v), sp.sin(u))\n",
    "display(primeraFormaFundamental_pt_uv(phi, u, v, 0, 0))\n",
    "display(segundaFormaFundamental_pt_uv(phi, u, v, 0, 0))"
   ]
  },
  {
   "cell_type": "code",
   "execution_count": 62,
   "metadata": {},
   "outputs": [
    {
     "data": {
      "image/png": "[encoded data removed]",
      "text/latex": [
       "$\\displaystyle \\left( b^{2}, \\  0, \\  \\left(a + b \\cos{\\left(u \\right)}\\right)^{2}\\right)$"
      ],
      "text/plain": [
       "⎛ 2                   2⎞\n",
       "⎝b , 0, (a + b⋅cos(u)) ⎠"
      ]
     },
     "metadata": {},
     "output_type": "display_data"
    },
    {
     "data": {
      "image/png": "[encoded data removed]",
      "text/latex": [
       "$\\displaystyle \\left( \\frac{b^{2} \\left(a + b \\cos{\\left(u \\right)}\\right)}{\\left|{b}\\right| \\left|{a + b \\cos{\\left(u \\right)}}\\right|}, \\  0, \\  \\frac{b \\left(a + b \\cos{\\left(u \\right)}\\right)^{2} \\cos{\\left(u \\right)}}{\\left|{b}\\right| \\left|{a + b \\cos{\\left(u \\right)}}\\right|}\\right)$"
      ],
      "text/plain": [
       "⎛ 2                                     2       ⎞\n",
       "⎜b ⋅(a + b⋅cos(u))      b⋅(a + b⋅cos(u)) ⋅cos(u)⎟\n",
       "⎜──────────────────, 0, ────────────────────────⎟\n",
       "⎝│b│⋅│a + b⋅cos(u)│        │b│⋅│a + b⋅cos(u)│   ⎠"
      ]
     },
     "metadata": {},
     "output_type": "display_data"
    }
   ],
   "source": [
    "phi = ( (a+b*sp.cos(u))*sp.cos(v), (a+b*sp.cos(u))*sp.sin(v), b*sp.sin(u))\n",
    "display(primeraFormaFundamental(phi, u, v))\n",
    "display(segundaFormaFundamental(phi, u, v))"
   ]
  },
  {
   "cell_type": "code",
   "execution_count": 63,
   "metadata": {},
   "outputs": [
    {
     "data": {
      "image/png": "[encoded data removed]",
      "text/latex": [
       "$\\displaystyle \\left( 5.0, \\  2.0, \\  2.0\\right)$"
      ],
      "text/plain": [
       "(5.0, 2.0, 2.0)"
      ]
     },
     "metadata": {},
     "output_type": "display_data"
    },
    {
     "data": {
      "image/png": "[encoded data removed]",
      "text/latex": [
       "$\\displaystyle \\left( -0.816496580927726, \\  0, \\  0\\right)$"
      ],
      "text/plain": [
       "(-0.816496580927726, 0, 0)"
      ]
     },
     "metadata": {},
     "output_type": "display_data"
    }
   ],
   "source": [
    "phi = ( u, u**2+v, v)\n",
    "display(primeraFormaFundamental_pt_uv(phi, u, v, 1, 1))\n",
    "display(segundaFormaFundamental_pt_uv(phi, u, v, 1, 1))       #REVISAR"
   ]
  },
  {
   "cell_type": "code",
   "execution_count": 64,
   "metadata": {},
   "outputs": [
    {
     "data": {
      "image/png": "[encoded data removed]",
      "text/latex": [
       "$\\displaystyle \\left( 1, \\  0, \\  1\\right)$"
      ],
      "text/plain": [
       "(1, 0, 1)"
      ]
     },
     "metadata": {},
     "output_type": "display_data"
    },
    {
     "data": {
      "image/png": "[encoded data removed]",
      "text/latex": [
       "$\\displaystyle \\left( 0, \\  0, \\  0\\right)$"
      ],
      "text/plain": [
       "(0, 0, 0)"
      ]
     },
     "metadata": {},
     "output_type": "display_data"
    }
   ],
   "source": [
    "phi = ( u, v, 0)\n",
    "display(primeraFormaFundamental(phi, u, v))\n",
    "display(segundaFormaFundamental(phi, u, v)) "
   ]
  },
  {
   "cell_type": "code",
   "execution_count": 65,
   "metadata": {},
   "outputs": [
    {
     "data": {
      "image/png": "[encoded data removed]",
      "text/latex": [
       "$\\displaystyle \\left( 1, \\  0, \\  \\cos^{2}{\\left(u \\right)}\\right)$"
      ],
      "text/plain": [
       "⎛         2   ⎞\n",
       "⎝1, 0, cos (u)⎠"
      ]
     },
     "metadata": {},
     "output_type": "display_data"
    },
    {
     "data": {
      "image/png": "[encoded data removed]",
      "text/latex": [
       "$\\displaystyle \\left( \\frac{\\cos{\\left(u \\right)}}{\\left|{\\cos{\\left(u \\right)}}\\right|}, \\  0, \\  \\frac{\\cos^{3}{\\left(u \\right)}}{\\left|{\\cos{\\left(u \\right)}}\\right|}\\right)$"
      ],
      "text/plain": [
       "⎛                3    ⎞\n",
       "⎜ cos(u)      cos (u) ⎟\n",
       "⎜────────, 0, ────────⎟\n",
       "⎝│cos(u)│     │cos(u)│⎠"
      ]
     },
     "metadata": {},
     "output_type": "display_data"
    }
   ],
   "source": [
    "phi = ( sp.cos(u)*sp.cos(v), sp.cos(u)*sp.sin(v), sp.sin(u))\n",
    "display(primeraFormaFundamental(phi, u, v))\n",
    "display(segundaFormaFundamental(phi, u, v))           #Revisar"
   ]
  },
  {
   "cell_type": "code",
   "execution_count": 66,
   "metadata": {},
   "outputs": [
    {
     "data": {
      "image/png": "[encoded data removed]",
      "text/latex": [
       "$\\displaystyle \\left( - \\cos{\\left(v \\right)}, \\  - \\sin{\\left(v \\right)}, \\  0\\right)$"
      ],
      "text/plain": [
       "(-cos(v), -sin(v), 0)"
      ]
     },
     "metadata": {},
     "output_type": "display_data"
    },
    {
     "data": {
      "image/png": "[encoded data removed]",
      "text/latex": [
       "$\\displaystyle \\left( 1, \\  0, \\  1\\right)$"
      ],
      "text/plain": [
       "(1, 0, 1)"
      ]
     },
     "metadata": {},
     "output_type": "display_data"
    },
    {
     "data": {
      "image/png": "[encoded data removed]",
      "text/latex": [
       "$\\displaystyle \\left( 0, \\  0, \\  1\\right)$"
      ],
      "text/plain": [
       "(0, 0, 1)"
      ]
     },
     "metadata": {},
     "output_type": "display_data"
    }
   ],
   "source": [
    "phi = ( sp.cos(v), sp.sin(v), u)\n",
    "display(normal(phi, u, v))\n",
    "display(primeraFormaFundamental(phi, u, v))\n",
    "display(segundaFormaFundamental(phi, u, v)) "
   ]
  },
  {
   "cell_type": "code",
   "execution_count": 67,
   "metadata": {},
   "outputs": [
    {
     "data": {
      "image/png": "[encoded data removed]",
      "text/latex": [
       "$\\displaystyle \\left( \\cosh{\\left(2 u \\right)}, \\  0, \\  \\cosh^{2}{\\left(u \\right)}\\right)$"
      ],
      "text/plain": [
       "⎛                  2   ⎞\n",
       "⎝cosh(2⋅u), 0, cosh (u)⎠"
      ]
     },
     "metadata": {},
     "output_type": "display_data"
    },
    {
     "data": {
      "image/png": "[encoded data removed]",
      "text/latex": [
       "$\\displaystyle \\left( - \\frac{1}{\\sqrt{\\cosh{\\left(2 u \\right)}}}, \\  0, \\  \\frac{\\cosh^{2}{\\left(u \\right)}}{\\sqrt{\\cosh{\\left(2 u \\right)}}}\\right)$"
      ],
      "text/plain": [
       "⎛                         2     ⎞\n",
       "⎜     -1              cosh (u)  ⎟\n",
       "⎜─────────────, 0, ─────────────⎟\n",
       "⎜  ___________       ___________⎟\n",
       "⎝╲╱ cosh(2⋅u)      ╲╱ cosh(2⋅u) ⎠"
      ]
     },
     "metadata": {},
     "output_type": "display_data"
    }
   ],
   "source": [
    "phi = ( sp.cosh(u)*sp.cos(v), sp.cosh(u)*sp.sin(v), sp.sinh(u))\n",
    "display(primeraFormaFundamental(phi, u, v))\n",
    "display(segundaFormaFundamental(phi, u, v)) "
   ]
  },
  {
   "cell_type": "code",
   "execution_count": 68,
   "metadata": {},
   "outputs": [
    {
     "data": {
      "image/png": "[encoded data removed]",
      "text/latex": [
       "$\\displaystyle \\left( - \\frac{2 u}{\\sqrt{4 u^{2} + 4 v^{2} + 1}}, \\  - \\frac{2 v}{\\sqrt{4 u^{2} + 4 v^{2} + 1}}, \\  \\frac{1}{\\sqrt{4 u^{2} + 4 v^{2} + 1}}\\right)$"
      ],
      "text/plain": [
       "⎛       -2⋅u                  -2⋅v                    1          ⎞\n",
       "⎜────────────────────, ────────────────────, ────────────────────⎟\n",
       "⎜   _________________     _________________     _________________⎟\n",
       "⎜  ╱    2      2         ╱    2      2         ╱    2      2     ⎟\n",
       "⎝╲╱  4⋅u  + 4⋅v  + 1   ╲╱  4⋅u  + 4⋅v  + 1   ╲╱  4⋅u  + 4⋅v  + 1 ⎠"
      ]
     },
     "metadata": {},
     "output_type": "display_data"
    },
    {
     "data": {
      "image/png": "[encoded data removed]",
      "text/latex": [
       "$\\displaystyle \\left( 4 u^{2} + 1, \\  4 u v, \\  4 v^{2} + 1\\right)$"
      ],
      "text/plain": [
       "⎛   2                2    ⎞\n",
       "⎝4⋅u  + 1, 4⋅u⋅v, 4⋅v  + 1⎠"
      ]
     },
     "metadata": {},
     "output_type": "display_data"
    },
    {
     "data": {
      "image/png": "[encoded data removed]",
      "text/latex": [
       "$\\displaystyle \\left( \\frac{2}{\\sqrt{4 u^{2} + 4 v^{2} + 1}}, \\  0, \\  \\frac{2}{\\sqrt{4 u^{2} + 4 v^{2} + 1}}\\right)$"
      ],
      "text/plain": [
       "⎛         2                        2          ⎞\n",
       "⎜────────────────────, 0, ────────────────────⎟\n",
       "⎜   _________________        _________________⎟\n",
       "⎜  ╱    2      2            ╱    2      2     ⎟\n",
       "⎝╲╱  4⋅u  + 4⋅v  + 1      ╲╱  4⋅u  + 4⋅v  + 1 ⎠"
      ]
     },
     "metadata": {},
     "output_type": "display_data"
    }
   ],
   "source": [
    "phi = ( u, v, u**2+v**2)\n",
    "display(normal(phi, u, v))\n",
    "display(primeraFormaFundamental(phi, u, v))\n",
    "display(segundaFormaFundamental(phi, u, v))       #Revisar"
   ]
  },
  {
   "cell_type": "code",
   "execution_count": 69,
   "metadata": {},
   "outputs": [
    {
     "data": {
      "image/png": "[encoded data removed]",
      "text/latex": [
       "$\\displaystyle \\left( - \\frac{2 s^{2} \\cos{\\left(t \\right)}}{\\sqrt{4 s^{2} + 1} \\left|{s}\\right|}, \\  - \\frac{2 s^{2} \\sin{\\left(t \\right)}}{\\sqrt{4 s^{2} + 1} \\left|{s}\\right|}, \\  \\frac{s}{\\sqrt{4 s^{2} + 1} \\left|{s}\\right|}\\right)$"
      ],
      "text/plain": [
       "⎛      2                  2                             ⎞\n",
       "⎜  -2⋅s ⋅cos(t)       -2⋅s ⋅sin(t)             s        ⎟\n",
       "⎜─────────────────, ─────────────────, ─────────────────⎟\n",
       "⎜   __________         __________         __________    ⎟\n",
       "⎜  ╱    2             ╱    2             ╱    2         ⎟\n",
       "⎝╲╱  4⋅s  + 1 ⋅│s│  ╲╱  4⋅s  + 1 ⋅│s│  ╲╱  4⋅s  + 1 ⋅│s│⎠"
      ]
     },
     "metadata": {},
     "output_type": "display_data"
    },
    {
     "data": {
      "image/png": "[encoded data removed]",
      "text/latex": [
       "$\\displaystyle \\left( 4 s^{2} + 1, \\  0, \\  s^{2}\\right)$"
      ],
      "text/plain": [
       "⎛   2          2⎞\n",
       "⎝4⋅s  + 1, 0, s ⎠"
      ]
     },
     "metadata": {},
     "output_type": "display_data"
    },
    {
     "data": {
      "image/png": "[encoded data removed]",
      "text/latex": [
       "$\\displaystyle \\left( \\frac{2 s}{\\sqrt{4 s^{2} + 1} \\left|{s}\\right|}, \\  0, \\  \\frac{2 s^{3}}{\\sqrt{4 s^{2} + 1} \\left|{s}\\right|}\\right)$"
      ],
      "text/plain": [
       "⎛                                3      ⎞\n",
       "⎜       2⋅s                   2⋅s       ⎟\n",
       "⎜─────────────────, 0, ─────────────────⎟\n",
       "⎜   __________            __________    ⎟\n",
       "⎜  ╱    2                ╱    2         ⎟\n",
       "⎝╲╱  4⋅s  + 1 ⋅│s│     ╲╱  4⋅s  + 1 ⋅│s│⎠"
      ]
     },
     "metadata": {},
     "output_type": "display_data"
    }
   ],
   "source": [
    "omega = (s*sp.cos(t), s*sp.sin(t), s**2)\n",
    "display(normal(omega, s, t))\n",
    "display(primeraFormaFundamental(omega, s, t))\n",
    "display(segundaFormaFundamental(omega, s, t))     #Revisar"
   ]
  },
  {
   "cell_type": "code",
   "execution_count": 70,
   "metadata": {},
   "outputs": [
    {
     "data": {
      "image/png": "[encoded data removed]",
      "text/latex": [
       "$\\displaystyle \\left( \\frac{2 \\cos^{2}{\\left(u \\right)} \\cos{\\left(v \\right)}}{\\sqrt{4 - 3 \\sin^{2}{\\left(u \\right)}} \\left|{\\cos{\\left(u \\right)}}\\right|}, \\  - \\frac{2 \\sin{\\left(v \\right)} \\cos^{2}{\\left(u \\right)}}{\\sqrt{4 - 3 \\sin^{2}{\\left(u \\right)}} \\left|{\\cos{\\left(u \\right)}}\\right|}, \\  \\frac{\\sqrt{2} \\sin{\\left(2 u \\right)}}{2 \\sqrt{3 \\cos{\\left(2 u \\right)} + 5} \\left|{\\cos{\\left(u \\right)}}\\right|}\\right)$"
      ],
      "text/plain": [
       "⎛           2                                   2                             \n",
       "⎜      2⋅cos (u)⋅cos(v)            -2⋅sin(v)⋅cos (u)                √2⋅sin(2⋅u\n",
       "⎜───────────────────────────, ───────────────────────────, ───────────────────\n",
       "⎜   _______________              _______________               _______________\n",
       "⎜  ╱          2                 ╱          2               2⋅╲╱ 3⋅cos(2⋅u) + 5\n",
       "⎝╲╱  4 - 3⋅sin (u) ⋅│cos(u)│  ╲╱  4 - 3⋅sin (u) ⋅│cos(u)│                     \n",
       "\n",
       "          ⎞\n",
       ")         ⎟\n",
       "──────────⎟\n",
       "_         ⎟\n",
       " ⋅│cos(u)│⎟\n",
       "          ⎠"
      ]
     },
     "metadata": {},
     "output_type": "display_data"
    },
    {
     "data": {
      "image/png": "[encoded data removed]",
      "text/latex": [
       "$\\displaystyle \\left( 4 - 3 \\sin^{2}{\\left(u \\right)}, \\  0, \\  \\cos^{2}{\\left(u \\right)}\\right)$"
      ],
      "text/plain": [
       "⎛         2           2   ⎞\n",
       "⎝4 - 3⋅sin (u), 0, cos (u)⎠"
      ]
     },
     "metadata": {},
     "output_type": "display_data"
    },
    {
     "data": {
      "image/png": "[encoded data removed]",
      "text/latex": [
       "$\\displaystyle \\left( - \\frac{2 \\cos{\\left(u \\right)}}{\\sqrt{4 - 3 \\sin^{2}{\\left(u \\right)}} \\left|{\\cos{\\left(u \\right)}}\\right|}, \\  0, \\  - \\frac{2 \\cos^{3}{\\left(u \\right)}}{\\sqrt{4 - 3 \\sin^{2}{\\left(u \\right)}} \\left|{\\cos{\\left(u \\right)}}\\right|}\\right)$"
      ],
      "text/plain": [
       "⎛                                              3            ⎞\n",
       "⎜         -2⋅cos(u)                      -2⋅cos (u)         ⎟\n",
       "⎜───────────────────────────, 0, ───────────────────────────⎟\n",
       "⎜   _______________                 _______________         ⎟\n",
       "⎜  ╱          2                    ╱          2             ⎟\n",
       "⎝╲╱  4 - 3⋅sin (u) ⋅│cos(u)│     ╲╱  4 - 3⋅sin (u) ⋅│cos(u)│⎠"
      ]
     },
     "metadata": {},
     "output_type": "display_data"
    },
    {
     "data": {
      "image/png": "[encoded data removed]",
      "text/latex": [
       "$\\displaystyle \\left( \\frac{3 \\left(4 - 3 \\sin^{2}{\\left(u \\right)}\\right)^{\\frac{3}{2}} \\sqrt{\\frac{1}{\\left(4 - 3 \\sin^{2}{\\left(u \\right)}\\right)^{3}}} \\cos^{3}{\\left(u \\right)} + \\left(3 \\sin^{2}{\\left(u \\right)} - 5\\right) \\left|{\\cos{\\left(u \\right)}}\\right|}{\\left(4 - 3 \\sin^{2}{\\left(u \\right)}\\right)^{\\frac{3}{2}} \\cos{\\left(u \\right)}}, \\  \\frac{- 3 \\left(4 - 3 \\sin^{2}{\\left(u \\right)}\\right)^{\\frac{3}{2}} \\sqrt{\\frac{1}{\\left(4 - 3 \\sin^{2}{\\left(u \\right)}\\right)^{3}}} \\cos^{3}{\\left(u \\right)} + \\left(3 \\sin^{2}{\\left(u \\right)} - 5\\right) \\left|{\\cos{\\left(u \\right)}}\\right|}{\\left(4 - 3 \\sin^{2}{\\left(u \\right)}\\right)^{\\frac{3}{2}} \\cos{\\left(u \\right)}}\\right)$"
      ],
      "text/plain": [
       "⎛                 3/2       __________________                                \n",
       "⎜  ⎛         2   ⎞         ╱        1             3      ⎛     2       ⎞      \n",
       "⎜3⋅⎝4 - 3⋅sin (u)⎠   ⋅    ╱  ──────────────── ⋅cos (u) + ⎝3⋅sin (u) - 5⎠⋅│cos(\n",
       "⎜                        ╱                  3                                 \n",
       "⎜                       ╱    ⎛         2   ⎞                                  \n",
       "⎜                     ╲╱     ⎝4 - 3⋅sin (u)⎠                                  \n",
       "⎜─────────────────────────────────────────────────────────────────────────────\n",
       "⎜                                          3/2                                \n",
       "⎜                           ⎛         2   ⎞                                   \n",
       "⎝                           ⎝4 - 3⋅sin (u)⎠   ⋅cos(u)                         \n",
       "\n",
       "                        3/2       __________________                          \n",
       "         ⎛         2   ⎞         ╱        1             3      ⎛     2       ⎞\n",
       "u)│  - 3⋅⎝4 - 3⋅sin (u)⎠   ⋅    ╱  ──────────────── ⋅cos (u) + ⎝3⋅sin (u) - 5⎠\n",
       "                               ╱                  3                           \n",
       "                              ╱    ⎛         2   ⎞                            \n",
       "                            ╲╱     ⎝4 - 3⋅sin (u)⎠                            \n",
       "───, ─────────────────────────────────────────────────────────────────────────\n",
       "                                                3/2                           \n",
       "                                 ⎛         2   ⎞                              \n",
       "                                 ⎝4 - 3⋅sin (u)⎠   ⋅cos(u)                    \n",
       "\n",
       "         ⎞\n",
       "         ⎟\n",
       "⋅│cos(u)│⎟\n",
       "         ⎟\n",
       "         ⎟\n",
       "         ⎟\n",
       "─────────⎟\n",
       "         ⎟\n",
       "         ⎟\n",
       "         ⎠"
      ]
     },
     "metadata": {},
     "output_type": "display_data"
    }
   ],
   "source": [
    "phi = ( sp.cos(u)*sp.cos(v), -sp.cos(u)*sp.sin(v), 2*sp.sin(u))\n",
    "display(normal(phi, u, v))\n",
    "display(primeraFormaFundamental(phi, u, v))\n",
    "display(segundaFormaFundamental(phi, u, v))\n",
    "display(curvaturasPrincipales(phi, u, v))"
   ]
  },
  {
   "cell_type": "code",
   "execution_count": 71,
   "metadata": {},
   "outputs": [
    {
     "data": {
      "image/png": "[encoded data removed]",
      "text/latex": [
       "$\\displaystyle \\left( u^{2} + 1, \\  0, \\  u^{2}\\right)$"
      ],
      "text/plain": [
       "⎛ 2          2⎞\n",
       "⎝u  + 1, 0, u ⎠"
      ]
     },
     "metadata": {},
     "output_type": "display_data"
    },
    {
     "data": {
      "image/png": "[encoded data removed]",
      "text/latex": [
       "$\\displaystyle \\left( \\frac{u}{\\sqrt{u^{2} + 1} \\left|{u}\\right|}, \\  0, \\  \\frac{u^{3}}{\\sqrt{u^{2} + 1} \\left|{u}\\right|}\\right)$"
      ],
      "text/plain": [
       "⎛                            3      ⎞\n",
       "⎜       u                   u       ⎟\n",
       "⎜───────────────, 0, ───────────────⎟\n",
       "⎜   ________            ________    ⎟\n",
       "⎜  ╱  2                ╱  2         ⎟\n",
       "⎝╲╱  u  + 1 ⋅│u│     ╲╱  u  + 1 ⋅│u│⎠"
      ]
     },
     "metadata": {},
     "output_type": "display_data"
    },
    {
     "data": {
      "image/png": "[encoded data removed]",
      "text/latex": [
       "$\\displaystyle \\frac{\\left(u^{2} + 2\\right) \\left|{u}\\right|}{2 u \\left(u^{2} + 1\\right)^{\\frac{3}{2}}}$"
      ],
      "text/plain": [
       "  ⎛ 2    ⎞     \n",
       "  ⎝u  + 2⎠⋅│u│ \n",
       "───────────────\n",
       "            3/2\n",
       "    ⎛ 2    ⎞   \n",
       "2⋅u⋅⎝u  + 1⎠   "
      ]
     },
     "metadata": {},
     "output_type": "display_data"
    },
    {
     "data": {
      "image/png": "[encoded data removed]",
      "text/latex": [
       "$\\displaystyle \\frac{1}{\\left(u^{2} + 1\\right)^{2}}$"
      ],
      "text/plain": [
       "    1    \n",
       "─────────\n",
       "        2\n",
       "⎛ 2    ⎞ \n",
       "⎝u  + 1⎠ "
      ]
     },
     "metadata": {},
     "output_type": "display_data"
    },
    {
     "data": {
      "image/png": "[encoded data removed]",
      "text/latex": [
       "$\\displaystyle \\left( \\frac{u^{3} + u^{2} \\left|{u}\\right| + 2 \\left|{u}\\right|}{2 u \\left(u^{2} + 1\\right)^{\\frac{3}{2}}}, \\  \\frac{- u^{3} + u^{2} \\left|{u}\\right| + 2 \\left|{u}\\right|}{2 u \\left(u^{2} + 1\\right)^{\\frac{3}{2}}}\\right)$"
      ],
      "text/plain": [
       "⎛ 3    2                 3    2            ⎞\n",
       "⎜u  + u ⋅│u│ + 2⋅│u│  - u  + u ⋅│u│ + 2⋅│u│⎟\n",
       "⎜───────────────────, ─────────────────────⎟\n",
       "⎜              3/2                   3/2   ⎟\n",
       "⎜      ⎛ 2    ⎞              ⎛ 2    ⎞      ⎟\n",
       "⎝  2⋅u⋅⎝u  + 1⎠          2⋅u⋅⎝u  + 1⎠      ⎠"
      ]
     },
     "metadata": {},
     "output_type": "display_data"
    }
   ],
   "source": [
    "phi = ( u*sp.cos(v), u*sp.sin(v), (u**2)/2)\n",
    "E, F, G = primeraFormaFundamental(phi, u, v)\n",
    "e, f, g = segundaFormaFundamental(phi, u, v)\n",
    "H = curvaturaMedia(phi, u, v, EFG=(E, F, G), efg=(e, f, g))\n",
    "K = curvaturaGauss(phi, u, v, EFG=(E, F, G), efg=(e, f, g))\n",
    "\n",
    "display(primeraFormaFundamental(phi, u, v))\n",
    "display(segundaFormaFundamental(phi, u, v))\n",
    "display(curvaturaMedia(phi, u, v))\n",
    "display(curvaturaGauss(phi, u, v))\n",
    "display(curvaturasPrincipales(phi, u, v))"
   ]
  },
  {
   "cell_type": "code",
   "execution_count": null,
   "metadata": {},
   "outputs": [],
   "source": []
  }
 ],
 "metadata": {
  "kernelspec": {
   "display_name": "Python 3",
   "language": "python",
   "name": "python3"
  },
  "language_info": {
   "codemirror_mode": {
    "name": "ipython",
    "version": 3
   },
   "file_extension": ".py",
   "mimetype": "text/x-python",
   "name": "python",
   "nbconvert_exporter": "python",
   "pygments_lexer": "ipython3",
   "version": "3.11.0"
  }
 },
 "nbformat": 4,
 "nbformat_minor": 2
}
