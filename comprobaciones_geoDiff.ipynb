{
 "cells": [
  {
   "cell_type": "markdown",
   "metadata": {},
   "source": [
    "# Comprobaciones de los metodos relacionados con la Geometría diferencial"
   ]
  },
  {
   "cell_type": "code",
   "execution_count": 1,
   "metadata": {},
   "outputs": [],
   "source": [
    "from geoDiff import *"
   ]
  },
  {
   "cell_type": "code",
   "execution_count": 2,
   "metadata": {},
   "outputs": [],
   "source": [
    "u, v = sp.symbols('u, v', real = True)          #Variables para parametrizacion\n",
    "s, t = sp.symbols('s, t', real = True)          #Variables para parametrizacion\n",
    "x, y, z = sp.symbols('x, y z', real = True)     #Variables para eje x, y, z\n",
    "a, b = sp.symbols('a, b', real = True)                #Parametro numerico\n"
   ]
  },
  {
   "cell_type": "markdown",
   "metadata": {},
   "source": [
    "## Pruebas"
   ]
  },
  {
   "cell_type": "code",
   "execution_count": 3,
   "metadata": {},
   "outputs": [
    {
     "data": {
      "text/latex": [
       "$\\displaystyle - 2.0 x - 2.0 y + 1.0 z + 2.0$"
      ],
      "text/plain": [
       "-2.0*x - 2.0*y + 1.0*z + 2.0"
      ]
     },
     "execution_count": 3,
     "metadata": {},
     "output_type": "execute_result"
    }
   ],
   "source": [
    "phi = (u, v, u**2 + v**2)\n",
    "planoTangente_pt_xyz(phi, u, v, 1, 1,2)"
   ]
  },
  {
   "cell_type": "code",
   "execution_count": 4,
   "metadata": {},
   "outputs": [
    {
     "data": {
      "text/plain": [
       "(1, 0, 1)"
      ]
     },
     "execution_count": 4,
     "metadata": {},
     "output_type": "execute_result"
    }
   ],
   "source": [
    "phi = (u, v, 0)\n",
    "primeraFormaFundamental(phi, u, v)"
   ]
  },
  {
   "cell_type": "code",
   "execution_count": 5,
   "metadata": {},
   "outputs": [
    {
     "data": {
      "text/plain": [
       "(1, 0, 1)"
      ]
     },
     "execution_count": 5,
     "metadata": {},
     "output_type": "execute_result"
    }
   ],
   "source": [
    "phi = (sp.cos(u), sp.sin(u), v)\n",
    "primeraFormaFundamental(phi, u, v)"
   ]
  },
  {
   "cell_type": "code",
   "execution_count": 6,
   "metadata": {},
   "outputs": [
    {
     "data": {
      "text/plain": [
       "(1, 0, u**2)"
      ]
     },
     "execution_count": 6,
     "metadata": {},
     "output_type": "execute_result"
    }
   ],
   "source": [
    "phi = (u*sp.cos(v), u*sp.sin(v), 0)\n",
    "primeraFormaFundamental(phi, u, v)"
   ]
  },
  {
   "cell_type": "code",
   "execution_count": 7,
   "metadata": {},
   "outputs": [
    {
     "data": {
      "text/plain": [
       "(v**2 + 2, u*v, u**2 + 2)"
      ]
     },
     "execution_count": 7,
     "metadata": {},
     "output_type": "execute_result"
    }
   ],
   "source": [
    "phi = (u+v, u*v, u-v)\n",
    "primeraFormaFundamental(phi, u, v)"
   ]
  },
  {
   "cell_type": "code",
   "execution_count": 8,
   "metadata": {},
   "outputs": [
    {
     "data": {
      "text/plain": [
       "(4*u**2 + 2, 2*u - 2*v, 4*v**2 + 1)"
      ]
     },
     "execution_count": 8,
     "metadata": {},
     "output_type": "execute_result"
    }
   ],
   "source": [
    "phi = (u**2+v, u-v**2, u)\n",
    "primeraFormaFundamental(phi, u, v)"
   ]
  },
  {
   "cell_type": "code",
   "execution_count": 9,
   "metadata": {},
   "outputs": [
    {
     "data": {
      "text/plain": [
       "(2, 0, u**2)"
      ]
     },
     "execution_count": 9,
     "metadata": {},
     "output_type": "execute_result"
    }
   ],
   "source": [
    "phi = (u*sp.cos(v), u*sp.sin(v), u)\n",
    "primeraFormaFundamental(phi, u, v)"
   ]
  },
  {
   "cell_type": "code",
   "execution_count": 10,
   "metadata": {},
   "outputs": [
    {
     "name": "stdout",
     "output_type": "stream",
     "text": [
      "(1, 0, a**2 + u**2)\n"
     ]
    },
    {
     "data": {
      "text/plain": [
       "(1.00000000000000, 0, a**2)"
      ]
     },
     "execution_count": 10,
     "metadata": {},
     "output_type": "execute_result"
    }
   ],
   "source": [
    "phi = (u*sp.cos(v), u*sp.sin(v), v*a)\n",
    "EFG = primeraFormaFundamental(phi, u, v)\n",
    "print(EFG)\n",
    "primeraFormaFundamental_pt_uv(phi, u, v, 0, 0, EFG=EFG)"
   ]
  },
  {
   "cell_type": "code",
   "execution_count": 11,
   "metadata": {},
   "outputs": [
    {
     "name": "stdout",
     "output_type": "stream",
     "text": [
      "(1, 0, 1)\n",
      "(4*s**2 + 1, 0, 1)\n"
     ]
    }
   ],
   "source": [
    "phi = (u, 0, v)\n",
    "sigma = (s, s**2, t)\n",
    "print(primeraFormaFundamental(phi, u, v))\n",
    "print(primeraFormaFundamental(sigma, s, t))"
   ]
  },
  {
   "cell_type": "code",
   "execution_count": 12,
   "metadata": {},
   "outputs": [
    {
     "name": "stdout",
     "output_type": "stream",
     "text": [
      "(1, 0, 1)\n",
      "(0, 0, 0)\n",
      "(1, 0, 1)\n",
      "(-1, 0, 0)\n"
     ]
    }
   ],
   "source": [
    "phi = (u, v, 0)\n",
    "sigma = (sp.cos(s), sp.sin(s), t)\n",
    "print(primeraFormaFundamental(phi, u, v))\n",
    "print(segundaFormaFundamental(phi, u, v))\n",
    "print(primeraFormaFundamental(sigma, s, t))\n",
    "print(segundaFormaFundamental(sigma, s, t))"
   ]
  },
  {
   "cell_type": "code",
   "execution_count": 13,
   "metadata": {},
   "outputs": [
    {
     "name": "stdout",
     "output_type": "stream",
     "text": [
      "(a**2, 0, a**2*cos(u)**2)\n",
      "(a*cos(u)/Abs(cos(u)), 0, a*cos(u)**3/Abs(cos(u)))\n"
     ]
    }
   ],
   "source": [
    "phi = (a*sp.cos(u)*sp.cos(v), a*sp.cos(u)*sp.sin(v), a*sp.sin(u))\n",
    "print(primeraFormaFundamental(phi, u, v))\n",
    "print(segundaFormaFundamental(phi, u, v))"
   ]
  },
  {
   "cell_type": "code",
   "execution_count": 14,
   "metadata": {},
   "outputs": [
    {
     "name": "stdout",
     "output_type": "stream",
     "text": [
      "(1.00000000000000, 0, 1.00000000000000)\n",
      "(1.00000000000000, 0, 1.00000000000000)\n"
     ]
    }
   ],
   "source": [
    "phi = (sp.cos(u)*sp.cos(v), sp.cos(u)*sp.sin(v), sp.sin(u))\n",
    "print(primeraFormaFundamental_pt_uv(phi, u, v, 0, 0))\n",
    "print(segundaFormaFundamental_pt_uv(phi, u, v, 0, 0))"
   ]
  },
  {
   "cell_type": "code",
   "execution_count": 15,
   "metadata": {},
   "outputs": [
    {
     "name": "stdout",
     "output_type": "stream",
     "text": [
      "(b**2, 0, (a + b*cos(u))**2)\n",
      "(b**2*(a + b*cos(u))/(Abs(b)*Abs(a + b*cos(u))), 0, b*(a + b*cos(u))**2*cos(u)/(Abs(b)*Abs(a + b*cos(u))))\n"
     ]
    }
   ],
   "source": [
    "phi = ( (a+b*sp.cos(u))*sp.cos(v), (a+b*sp.cos(u))*sp.sin(v), b*sp.sin(u))\n",
    "print(primeraFormaFundamental(phi, u, v))\n",
    "print(segundaFormaFundamental(phi, u, v))"
   ]
  },
  {
   "cell_type": "code",
   "execution_count": 16,
   "metadata": {},
   "outputs": [
    {
     "name": "stdout",
     "output_type": "stream",
     "text": [
      "(5.00000000000000, 2.00000000000000, 2.00000000000000)\n",
      "(-0.816496580927726, 0, 0)\n"
     ]
    }
   ],
   "source": [
    "phi = ( u, u**2+v, v)\n",
    "print(primeraFormaFundamental_pt_uv(phi, u, v, 1, 1))\n",
    "print(segundaFormaFundamental_pt_uv(phi, u, v, 1, 1))       #REVISAR"
   ]
  },
  {
   "cell_type": "code",
   "execution_count": 17,
   "metadata": {},
   "outputs": [
    {
     "name": "stdout",
     "output_type": "stream",
     "text": [
      "(1, 0, 1)\n",
      "(0, 0, 0)\n"
     ]
    }
   ],
   "source": [
    "phi = ( u, v, 0)\n",
    "print(primeraFormaFundamental(phi, u, v))\n",
    "print(segundaFormaFundamental(phi, u, v)) "
   ]
  },
  {
   "cell_type": "code",
   "execution_count": 18,
   "metadata": {},
   "outputs": [
    {
     "name": "stdout",
     "output_type": "stream",
     "text": [
      "(1, 0, cos(u)**2)\n",
      "(cos(u)/Abs(cos(u)), 0, cos(u)**3/Abs(cos(u)))\n"
     ]
    }
   ],
   "source": [
    "phi = ( sp.cos(u)*sp.cos(v), sp.cos(u)*sp.sin(v), sp.sin(u))\n",
    "print(primeraFormaFundamental(phi, u, v))\n",
    "print(segundaFormaFundamental(phi, u, v))           #Revisar"
   ]
  },
  {
   "cell_type": "code",
   "execution_count": 19,
   "metadata": {},
   "outputs": [
    {
     "name": "stdout",
     "output_type": "stream",
     "text": [
      "(-cos(v), -sin(v), 0)\n",
      "(1, 0, 1)\n",
      "(0, 0, 1)\n"
     ]
    }
   ],
   "source": [
    "phi = ( sp.cos(v), sp.sin(v), u)\n",
    "print(normal(phi, u, v))\n",
    "print(primeraFormaFundamental(phi, u, v))\n",
    "print(segundaFormaFundamental(phi, u, v)) "
   ]
  },
  {
   "cell_type": "code",
   "execution_count": 20,
   "metadata": {},
   "outputs": [
    {
     "name": "stdout",
     "output_type": "stream",
     "text": [
      "(cosh(2*u), 0, cosh(u)**2)\n",
      "(-1/sqrt(cosh(2*u)), 0, cosh(u)**2/sqrt(cosh(2*u)))\n"
     ]
    }
   ],
   "source": [
    "phi = ( sp.cosh(u)*sp.cos(v), sp.cosh(u)*sp.sin(v), sp.sinh(u))\n",
    "print(primeraFormaFundamental(phi, u, v))\n",
    "print(segundaFormaFundamental(phi, u, v)) "
   ]
  },
  {
   "cell_type": "code",
   "execution_count": 21,
   "metadata": {},
   "outputs": [
    {
     "name": "stdout",
     "output_type": "stream",
     "text": [
      "(-2*u/sqrt(4*u**2 + 4*v**2 + 1), -2*v/sqrt(4*u**2 + 4*v**2 + 1), 1/sqrt(4*u**2 + 4*v**2 + 1))\n",
      "(4*u**2 + 1, 4*u*v, 4*v**2 + 1)\n",
      "(2/sqrt(4*u**2 + 4*v**2 + 1), 0, 2/sqrt(4*u**2 + 4*v**2 + 1))\n"
     ]
    }
   ],
   "source": [
    "phi = ( u, v, u**2+v**2)\n",
    "print(normal(phi, u, v))\n",
    "print(primeraFormaFundamental(phi, u, v))\n",
    "print(segundaFormaFundamental(phi, u, v))       #Revisar"
   ]
  },
  {
   "cell_type": "code",
   "execution_count": 22,
   "metadata": {},
   "outputs": [
    {
     "name": "stdout",
     "output_type": "stream",
     "text": [
      "(-2*s**2*cos(t)/(sqrt(4*s**2 + 1)*Abs(s)), -2*s**2*sin(t)/(sqrt(4*s**2 + 1)*Abs(s)), s/(sqrt(4*s**2 + 1)*Abs(s)))\n",
      "(4*s**2 + 1, 0, s**2)\n",
      "(2*s/(sqrt(4*s**2 + 1)*Abs(s)), 0, 2*s**3/(sqrt(4*s**2 + 1)*Abs(s)))\n"
     ]
    }
   ],
   "source": [
    "omega = (s*sp.cos(t), s*sp.sin(t), s**2)\n",
    "print(normal(omega, s, t))\n",
    "print(primeraFormaFundamental(omega, s, t))\n",
    "print(segundaFormaFundamental(omega, s, t))     #Revisar"
   ]
  },
  {
   "cell_type": "code",
   "execution_count": 23,
   "metadata": {},
   "outputs": [
    {
     "name": "stdout",
     "output_type": "stream",
     "text": [
      "(2*cos(u)**2*cos(v)/(sqrt(4 - 3*sin(u)**2)*Abs(cos(u))), -2*sin(v)*cos(u)**2/(sqrt(4 - 3*sin(u)**2)*Abs(cos(u))), sqrt(2)*sin(2*u)/(2*sqrt(3*cos(2*u) + 5)*Abs(cos(u))))\n",
      "(4 - 3*sin(u)**2, 0, cos(u)**2)\n",
      "(-2*cos(u)/(sqrt(4 - 3*sin(u)**2)*Abs(cos(u))), 0, -2*cos(u)**3/(sqrt(4 - 3*sin(u)**2)*Abs(cos(u))))\n",
      "((3*(4 - 3*sin(u)**2)**(3/2)*sqrt((4 - 3*sin(u)**2)**(-3))*cos(u)**3 + (3*sin(u)**2 - 5)*Abs(cos(u)))/((4 - 3*sin(u)**2)**(3/2)*cos(u)), (-3*(4 - 3*sin(u)**2)**(3/2)*sqrt((4 - 3*sin(u)**2)**(-3))*cos(u)**3 + (3*sin(u)**2 - 5)*Abs(cos(u)))/((4 - 3*sin(u)**2)**(3/2)*cos(u)))\n"
     ]
    }
   ],
   "source": [
    "phi = ( sp.cos(u)*sp.cos(v), -sp.cos(u)*sp.sin(v), 2*sp.sin(u))\n",
    "print(normal(phi, u, v))\n",
    "print(primeraFormaFundamental(phi, u, v))\n",
    "print(segundaFormaFundamental(phi, u, v))\n",
    "print(curvaturasPrincipales(phi, u, v))"
   ]
  },
  {
   "cell_type": "code",
   "execution_count": 24,
   "metadata": {},
   "outputs": [
    {
     "name": "stdout",
     "output_type": "stream",
     "text": [
      "(u**2 + 1, 0, u**2)\n",
      "(u/(sqrt(u**2 + 1)*Abs(u)), 0, u**3/(sqrt(u**2 + 1)*Abs(u)))\n",
      "(u**2 + 2)*Abs(u)/(2*u*(u**2 + 1)**(3/2))\n",
      "(u**2 + 1)**(-2)\n",
      "((u**3 + u**2*Abs(u) + 2*Abs(u))/(2*u*(u**2 + 1)**(3/2)), (-u**3 + u**2*Abs(u) + 2*Abs(u))/(2*u*(u**2 + 1)**(3/2)))\n"
     ]
    }
   ],
   "source": [
    "phi = ( u*sp.cos(v), u*sp.sin(v), (u**2)/2)\n",
    "print(primeraFormaFundamental(phi, u, v))\n",
    "print(segundaFormaFundamental(phi, u, v))\n",
    "print(curvaturaMedia(phi, u, v))\n",
    "print(curvaturaGauss(phi, u, v))\n",
    "print(curvaturasPrincipales(phi, u, v))"
   ]
  },
  {
   "cell_type": "code",
   "execution_count": null,
   "metadata": {},
   "outputs": [],
   "source": []
  }
 ],
 "metadata": {
  "kernelspec": {
   "display_name": "Python 3",
   "language": "python",
   "name": "python3"
  },
  "language_info": {
   "codemirror_mode": {
    "name": "ipython",
    "version": 3
   },
   "file_extension": ".py",
   "mimetype": "text/x-python",
   "name": "python",
   "nbconvert_exporter": "python",
   "pygments_lexer": "ipython3",
   "version": "3.11.0"
  }
 },
 "nbformat": 4,
 "nbformat_minor": 2
}
