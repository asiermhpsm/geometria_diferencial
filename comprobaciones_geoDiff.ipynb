{
 "cells": [
  {
   "cell_type": "markdown",
   "metadata": {},
   "source": [
    "# Comprobaciones de los metodos relacionados con la Geometría diferencial"
   ]
  },
  {
   "cell_type": "code",
   "execution_count": 20,
   "metadata": {},
   "outputs": [],
   "source": [
    "from geoDiff import *"
   ]
  },
  {
   "cell_type": "code",
   "execution_count": 21,
   "metadata": {},
   "outputs": [],
   "source": [
    "u, v = sp.symbols('u, v', real = True)          #Variables para parametrizacion\n",
    "s, t = sp.symbols('s, t', real = True)          #Variables para parametrizacion\n",
    "x, y, z = sp.symbols('x, y z', real = True)     #Variables para eje x, y, z\n",
    "a, b = sp.symbols('a, b', real = True)                #Parametro numerico\n"
   ]
  },
  {
   "cell_type": "markdown",
   "metadata": {},
   "source": [
    "## Pruebas"
   ]
  },
  {
   "cell_type": "code",
   "execution_count": 22,
   "metadata": {},
   "outputs": [
    {
     "data": {
      "text/latex": [
       "$\\displaystyle - 2.0 x - 2.0 y + 1.0 z + 2.0$"
      ],
      "text/plain": [
       "-2.0*x - 2.0*y + 1.0*z + 2.0"
      ]
     },
     "execution_count": 22,
     "metadata": {},
     "output_type": "execute_result"
    }
   ],
   "source": [
    "phi = (u, v, u**2 + v**2)\n",
    "planoTangente_pt_xyz(phi, u, v, 1, 1,2)"
   ]
  },
  {
   "cell_type": "code",
   "execution_count": 23,
   "metadata": {},
   "outputs": [
    {
     "data": {
      "text/plain": [
       "(1, 0, 1)"
      ]
     },
     "execution_count": 23,
     "metadata": {},
     "output_type": "execute_result"
    }
   ],
   "source": [
    "phi = (u, v, 0)\n",
    "primeraFormaFundamental(phi, u, v)"
   ]
  },
  {
   "cell_type": "code",
   "execution_count": 24,
   "metadata": {},
   "outputs": [
    {
     "data": {
      "text/plain": [
       "(1, 0, 1)"
      ]
     },
     "execution_count": 24,
     "metadata": {},
     "output_type": "execute_result"
    }
   ],
   "source": [
    "phi = (sp.cos(u), sp.sin(u), v)\n",
    "primeraFormaFundamental(phi, u, v)"
   ]
  },
  {
   "cell_type": "code",
   "execution_count": 25,
   "metadata": {},
   "outputs": [
    {
     "data": {
      "text/plain": [
       "(1, 0, u**2)"
      ]
     },
     "execution_count": 25,
     "metadata": {},
     "output_type": "execute_result"
    }
   ],
   "source": [
    "phi = (u*sp.cos(v), u*sp.sin(v), 0)\n",
    "primeraFormaFundamental(phi, u, v)"
   ]
  },
  {
   "cell_type": "code",
   "execution_count": 26,
   "metadata": {},
   "outputs": [
    {
     "data": {
      "text/plain": [
       "(v**2 + 2, u*v, u**2 + 2)"
      ]
     },
     "execution_count": 26,
     "metadata": {},
     "output_type": "execute_result"
    }
   ],
   "source": [
    "phi = (u+v, u*v, u-v)\n",
    "primeraFormaFundamental(phi, u, v)"
   ]
  },
  {
   "cell_type": "code",
   "execution_count": 27,
   "metadata": {},
   "outputs": [
    {
     "data": {
      "text/plain": [
       "(4*u**2 + 2, 2*u - 2*v, 4*v**2 + 1)"
      ]
     },
     "execution_count": 27,
     "metadata": {},
     "output_type": "execute_result"
    }
   ],
   "source": [
    "phi = (u**2+v, u-v**2, u)\n",
    "primeraFormaFundamental(phi, u, v)"
   ]
  },
  {
   "cell_type": "code",
   "execution_count": 28,
   "metadata": {},
   "outputs": [
    {
     "data": {
      "text/plain": [
       "(2, 0, u**2)"
      ]
     },
     "execution_count": 28,
     "metadata": {},
     "output_type": "execute_result"
    }
   ],
   "source": [
    "phi = (u*sp.cos(v), u*sp.sin(v), u)\n",
    "primeraFormaFundamental(phi, u, v)"
   ]
  },
  {
   "cell_type": "code",
   "execution_count": 29,
   "metadata": {},
   "outputs": [
    {
     "name": "stdout",
     "output_type": "stream",
     "text": [
      "(1, 0, a**2 + u**2)\n"
     ]
    },
    {
     "data": {
      "text/plain": [
       "(1.00000000000000, 0, a**2)"
      ]
     },
     "execution_count": 29,
     "metadata": {},
     "output_type": "execute_result"
    }
   ],
   "source": [
    "phi = (u*sp.cos(v), u*sp.sin(v), v*a)\n",
    "EFG = primeraFormaFundamental(phi, u, v)\n",
    "print(EFG)\n",
    "primeraFormaFundamental_pt_uv(phi, u, v, 0, 0, EFG=EFG)"
   ]
  },
  {
   "cell_type": "code",
   "execution_count": 30,
   "metadata": {},
   "outputs": [
    {
     "name": "stdout",
     "output_type": "stream",
     "text": [
      "(1, 0, 1)\n",
      "(4*s**2 + 1, 0, 1)\n"
     ]
    }
   ],
   "source": [
    "phi = (u, 0, v)\n",
    "sigma = (s, s**2, t)\n",
    "print(primeraFormaFundamental(phi, u, v))\n",
    "print(primeraFormaFundamental(sigma, s, t))"
   ]
  },
  {
   "cell_type": "code",
   "execution_count": 31,
   "metadata": {},
   "outputs": [
    {
     "name": "stdout",
     "output_type": "stream",
     "text": [
      "(1, 0, 1)\n",
      "(0, 0, 0)\n",
      "(1, 0, 1)\n",
      "(-1, 0, 0)\n"
     ]
    }
   ],
   "source": [
    "phi = (u, v, 0)\n",
    "sigma = (sp.cos(s), sp.sin(s), t)\n",
    "print(primeraFormaFundamental(phi, u, v))\n",
    "print(segundaFormaFundamental(phi, u, v))\n",
    "print(primeraFormaFundamental(sigma, s, t))\n",
    "print(segundaFormaFundamental(sigma, s, t))"
   ]
  },
  {
   "cell_type": "code",
   "execution_count": 32,
   "metadata": {},
   "outputs": [
    {
     "name": "stdout",
     "output_type": "stream",
     "text": [
      "(a**2, 0, a**2*cos(u)**2)\n"
     ]
    },
    {
     "name": "stdout",
     "output_type": "stream",
     "text": [
      "(a*cos(u)/Abs(cos(u)), 0, a*cos(u)**3/Abs(cos(u)))\n"
     ]
    }
   ],
   "source": [
    "phi = (a*sp.cos(u)*sp.cos(v), a*sp.cos(u)*sp.sin(v), a*sp.sin(u))\n",
    "print(primeraFormaFundamental(phi, u, v))\n",
    "print(segundaFormaFundamental(phi, u, v))"
   ]
  },
  {
   "cell_type": "code",
   "execution_count": 33,
   "metadata": {},
   "outputs": [
    {
     "name": "stdout",
     "output_type": "stream",
     "text": [
      "(1.00000000000000, 0, 1.00000000000000)\n",
      "(1.00000000000000, 0, 1.00000000000000)\n"
     ]
    }
   ],
   "source": [
    "phi = (sp.cos(u)*sp.cos(v), sp.cos(u)*sp.sin(v), sp.sin(u))\n",
    "print(primeraFormaFundamental_pt_uv(phi, u, v, 0, 0))\n",
    "print(segundaFormaFundamental_pt_uv(phi, u, v, 0, 0))"
   ]
  },
  {
   "cell_type": "code",
   "execution_count": 35,
   "metadata": {},
   "outputs": [
    {
     "name": "stdout",
     "output_type": "stream",
     "text": [
      "(b**2, 0, (a + b*cos(u))**2)\n",
      "(b**2*(a + b*cos(u))/(Abs(b)*Abs(a + b*cos(u))), 0, b*(a + b*cos(u))**2*cos(u)/(Abs(b)*Abs(a + b*cos(u))))\n"
     ]
    }
   ],
   "source": [
    "phi = ( (a+b*sp.cos(u))*sp.cos(v), (a+b*sp.cos(u))*sp.sin(v), b*sp.sin(u))\n",
    "print(primeraFormaFundamental(phi, u, v))\n",
    "print(segundaFormaFundamental(phi, u, v))"
   ]
  }
 ],
 "metadata": {
  "kernelspec": {
   "display_name": "Python 3",
   "language": "python",
   "name": "python3"
  },
  "language_info": {
   "codemirror_mode": {
    "name": "ipython",
    "version": 3
   },
   "file_extension": ".py",
   "mimetype": "text/x-python",
   "name": "python",
   "nbconvert_exporter": "python",
   "pygments_lexer": "ipython3",
   "version": "3.11.0"
  }
 },
 "nbformat": 4,
 "nbformat_minor": 2
}
